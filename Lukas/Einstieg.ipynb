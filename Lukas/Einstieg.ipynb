{
 "cells": [
  {
   "cell_type": "code",
   "execution_count": 1,
   "metadata": {},
   "outputs": [
    {
     "data": {
      "text/html": [
       "<pre style=\"white-space:pre;overflow-x:auto;line-height:normal;font-family:Menlo,'DejaVu Sans Mono',consolas,'Courier New',monospace\">Manim Community <span style=\"color: #008000; text-decoration-color: #008000\">v0.18.0</span>\n",
       "\n",
       "</pre>\n"
      ],
      "text/plain": [
       "Manim Community \u001b[32mv0.\u001b[0m\u001b[32m18.0\u001b[0m\n",
       "\n"
      ]
     },
     "metadata": {},
     "output_type": "display_data"
    },
    {
     "name": "stdout",
     "output_type": "stream",
     "text": [
      "The manim module is not an IPython extension.\n"
     ]
    }
   ],
   "source": [
    "%load_ext manim\n",
    "from manim import *\n",
    "import networkx as nx\n",
    "import matplotlib.pyplot as plt\n",
    "import numpy as np"
   ]
  },
  {
   "cell_type": "code",
   "execution_count": 2,
   "metadata": {},
   "outputs": [],
   "source": [
    "class PeekAnimation_right(Scene):\n",
    "    def construct(self):\n",
    "        # Lade das Bild als ImageMobject\n",
    "        tom = ImageMobject(\"../Bilder/Einstieg/Happy.png\")\n",
    "        \n",
    "        # Skaliere das Bild nach Bedarf\n",
    "        tom.scale(0.5) # Passt die Größe des Bildes an\n",
    "        \n",
    "        \n",
    "        # Positioniere die Figur außerhalb des sichtbaren Bereichs (rechts unten)\n",
    "        \n",
    "        tom.move_to(DOWN+RIGHT*9).rotate(0.9)\n",
    "        \n",
    "        # Bewege die Figur leicht nach links gedreht ins Bild\n",
    "        self.play(tom.animate.move_to(DOWN+RIGHT*7))\n",
    "        \n",
    "        self.wait (1)\n",
    "        self.play(tom.animate.move_to(DOWN+RIGHT*9))\n",
    "        \n",
    "        # Ende der Animation\n",
    "        self.wait(2)\n",
    "\n"
   ]
  },
  {
   "cell_type": "code",
   "execution_count": 3,
   "metadata": {},
   "outputs": [
    {
     "data": {
      "text/html": [
       "<pre style=\"white-space:pre;overflow-x:auto;line-height:normal;font-family:Menlo,'DejaVu Sans Mono',consolas,'Courier New',monospace\"><span style=\"color: #7fbfbf; text-decoration-color: #7fbfbf\">[02/07/24 15:01:59] </span><span style=\"color: #008000; text-decoration-color: #008000\">INFO    </span> Animation <span style=\"color: #008000; text-decoration-color: #008000\">0</span> : Using cached data <span style=\"font-weight: bold\">(</span>hash :                           <a href=\"file://c:\\Users\\a829727\\AppData\\Local\\anaconda3\\envs\\semester_5\\lib\\site-packages\\manim\\renderer\\cairo_renderer.py\" target=\"_blank\"><span style=\"color: #7f7f7f; text-decoration-color: #7f7f7f\">cairo_renderer.py</span></a><span style=\"color: #7f7f7f; text-decoration-color: #7f7f7f\">:</span><a href=\"file://c:\\Users\\a829727\\AppData\\Local\\anaconda3\\envs\\semester_5\\lib\\site-packages\\manim\\renderer\\cairo_renderer.py#78\" target=\"_blank\"><span style=\"color: #7f7f7f; text-decoration-color: #7f7f7f\">78</span></a>\n",
       "<span style=\"color: #7fbfbf; text-decoration-color: #7fbfbf\">                    </span>         1185818338_1784767166_3362834651<span style=\"font-weight: bold\">)</span>                                 <span style=\"color: #7f7f7f; text-decoration-color: #7f7f7f\">                    </span>\n",
       "</pre>\n"
      ],
      "text/plain": [
       "\u001b[2;36m[02/07/24 15:01:59]\u001b[0m\u001b[2;36m \u001b[0m\u001b[32mINFO    \u001b[0m Animation \u001b[32m0\u001b[0m : Using cached data \u001b[1m(\u001b[0mhash :                           \u001b]8;id=734157;file://c:\\Users\\a829727\\AppData\\Local\\anaconda3\\envs\\semester_5\\lib\\site-packages\\manim\\renderer\\cairo_renderer.py\u001b\\\u001b[2mcairo_renderer.py\u001b[0m\u001b]8;;\u001b\\\u001b[2m:\u001b[0m\u001b]8;id=161676;file://c:\\Users\\a829727\\AppData\\Local\\anaconda3\\envs\\semester_5\\lib\\site-packages\\manim\\renderer\\cairo_renderer.py#78\u001b\\\u001b[2m78\u001b[0m\u001b]8;;\u001b\\\n",
       "\u001b[2;36m                    \u001b[0m         1185818338_1784767166_3362834651\u001b[1m)\u001b[0m                                 \u001b[2m                    \u001b[0m\n"
      ]
     },
     "metadata": {},
     "output_type": "display_data"
    },
    {
     "name": "stderr",
     "output_type": "stream",
     "text": [
      "                                                                                          \r"
     ]
    },
    {
     "data": {
      "text/html": [
       "<pre style=\"white-space:pre;overflow-x:auto;line-height:normal;font-family:Menlo,'DejaVu Sans Mono',consolas,'Courier New',monospace\"><span style=\"color: #7fbfbf; text-decoration-color: #7fbfbf\">                    </span><span style=\"color: #008000; text-decoration-color: #008000\">INFO    </span> Animation <span style=\"color: #008000; text-decoration-color: #008000\">1</span> : Using cached data <span style=\"font-weight: bold\">(</span>hash :                           <a href=\"file://c:\\Users\\a829727\\AppData\\Local\\anaconda3\\envs\\semester_5\\lib\\site-packages\\manim\\renderer\\cairo_renderer.py\" target=\"_blank\"><span style=\"color: #7f7f7f; text-decoration-color: #7f7f7f\">cairo_renderer.py</span></a><span style=\"color: #7f7f7f; text-decoration-color: #7f7f7f\">:</span><a href=\"file://c:\\Users\\a829727\\AppData\\Local\\anaconda3\\envs\\semester_5\\lib\\site-packages\\manim\\renderer\\cairo_renderer.py#78\" target=\"_blank\"><span style=\"color: #7f7f7f; text-decoration-color: #7f7f7f\">78</span></a>\n",
       "<span style=\"color: #7fbfbf; text-decoration-color: #7fbfbf\">                    </span>         624642324_2919340033_734414968<span style=\"font-weight: bold\">)</span>                                   <span style=\"color: #7f7f7f; text-decoration-color: #7f7f7f\">                    </span>\n",
       "</pre>\n"
      ],
      "text/plain": [
       "\u001b[2;36m                   \u001b[0m\u001b[2;36m \u001b[0m\u001b[32mINFO    \u001b[0m Animation \u001b[32m1\u001b[0m : Using cached data \u001b[1m(\u001b[0mhash :                           \u001b]8;id=760877;file://c:\\Users\\a829727\\AppData\\Local\\anaconda3\\envs\\semester_5\\lib\\site-packages\\manim\\renderer\\cairo_renderer.py\u001b\\\u001b[2mcairo_renderer.py\u001b[0m\u001b]8;;\u001b\\\u001b[2m:\u001b[0m\u001b]8;id=589005;file://c:\\Users\\a829727\\AppData\\Local\\anaconda3\\envs\\semester_5\\lib\\site-packages\\manim\\renderer\\cairo_renderer.py#78\u001b\\\u001b[2m78\u001b[0m\u001b]8;;\u001b\\\n",
       "\u001b[2;36m                    \u001b[0m         624642324_2919340033_734414968\u001b[1m)\u001b[0m                                   \u001b[2m                    \u001b[0m\n"
      ]
     },
     "metadata": {},
     "output_type": "display_data"
    },
    {
     "data": {
      "text/html": [
       "<pre style=\"white-space:pre;overflow-x:auto;line-height:normal;font-family:Menlo,'DejaVu Sans Mono',consolas,'Courier New',monospace\"><span style=\"color: #7fbfbf; text-decoration-color: #7fbfbf\">                    </span><span style=\"color: #008000; text-decoration-color: #008000\">INFO    </span> Animation <span style=\"color: #008000; text-decoration-color: #008000\">2</span> : Using cached data <span style=\"font-weight: bold\">(</span>hash :                           <a href=\"file://c:\\Users\\a829727\\AppData\\Local\\anaconda3\\envs\\semester_5\\lib\\site-packages\\manim\\renderer\\cairo_renderer.py\" target=\"_blank\"><span style=\"color: #7f7f7f; text-decoration-color: #7f7f7f\">cairo_renderer.py</span></a><span style=\"color: #7f7f7f; text-decoration-color: #7f7f7f\">:</span><a href=\"file://c:\\Users\\a829727\\AppData\\Local\\anaconda3\\envs\\semester_5\\lib\\site-packages\\manim\\renderer\\cairo_renderer.py#78\" target=\"_blank\"><span style=\"color: #7f7f7f; text-decoration-color: #7f7f7f\">78</span></a>\n",
       "<span style=\"color: #7fbfbf; text-decoration-color: #7fbfbf\">                    </span>         624642324_3809787323_1428998561<span style=\"font-weight: bold\">)</span>                                  <span style=\"color: #7f7f7f; text-decoration-color: #7f7f7f\">                    </span>\n",
       "</pre>\n"
      ],
      "text/plain": [
       "\u001b[2;36m                   \u001b[0m\u001b[2;36m \u001b[0m\u001b[32mINFO    \u001b[0m Animation \u001b[32m2\u001b[0m : Using cached data \u001b[1m(\u001b[0mhash :                           \u001b]8;id=137571;file://c:\\Users\\a829727\\AppData\\Local\\anaconda3\\envs\\semester_5\\lib\\site-packages\\manim\\renderer\\cairo_renderer.py\u001b\\\u001b[2mcairo_renderer.py\u001b[0m\u001b]8;;\u001b\\\u001b[2m:\u001b[0m\u001b]8;id=153846;file://c:\\Users\\a829727\\AppData\\Local\\anaconda3\\envs\\semester_5\\lib\\site-packages\\manim\\renderer\\cairo_renderer.py#78\u001b\\\u001b[2m78\u001b[0m\u001b]8;;\u001b\\\n",
       "\u001b[2;36m                    \u001b[0m         624642324_3809787323_1428998561\u001b[1m)\u001b[0m                                  \u001b[2m                    \u001b[0m\n"
      ]
     },
     "metadata": {},
     "output_type": "display_data"
    },
    {
     "name": "stderr",
     "output_type": "stream",
     "text": [
      "                                                                                          \r"
     ]
    },
    {
     "data": {
      "text/html": [
       "<pre style=\"white-space:pre;overflow-x:auto;line-height:normal;font-family:Menlo,'DejaVu Sans Mono',consolas,'Courier New',monospace\"><span style=\"color: #7fbfbf; text-decoration-color: #7fbfbf\">[02/07/24 15:02:00] </span><span style=\"color: #008000; text-decoration-color: #008000\">INFO    </span> Animation <span style=\"color: #008000; text-decoration-color: #008000\">3</span> : Partial movie file written in                   <a href=\"file://c:\\Users\\a829727\\AppData\\Local\\anaconda3\\envs\\semester_5\\lib\\site-packages\\manim\\scene\\scene_file_writer.py\" target=\"_blank\"><span style=\"color: #7f7f7f; text-decoration-color: #7f7f7f\">scene_file_writer.py</span></a><span style=\"color: #7f7f7f; text-decoration-color: #7f7f7f\">:</span><a href=\"file://c:\\Users\\a829727\\AppData\\Local\\anaconda3\\envs\\semester_5\\lib\\site-packages\\manim\\scene\\scene_file_writer.py#527\" target=\"_blank\"><span style=\"color: #7f7f7f; text-decoration-color: #7f7f7f\">527</span></a>\n",
       "<span style=\"color: #7fbfbf; text-decoration-color: #7fbfbf\">                    </span>         <span style=\"color: #008000; text-decoration-color: #008000\">'C:\\Users\\a829727\\OneDrive - Atos\\Dokumente\\Uni\\Semester </span>     <span style=\"color: #7f7f7f; text-decoration-color: #7f7f7f\">                        </span>\n",
       "<span style=\"color: #7fbfbf; text-decoration-color: #7fbfbf\">                    </span>         <span style=\"color: #008000; text-decoration-color: #008000\">5\\Integrationsseminar\\Graph-Cuts-Animation\\Lukas\\media\\videos</span> <span style=\"color: #7f7f7f; text-decoration-color: #7f7f7f\">                        </span>\n",
       "<span style=\"color: #7fbfbf; text-decoration-color: #7fbfbf\">                    </span>         <span style=\"color: #008000; text-decoration-color: #008000\">\\Lukas\\480p15\\partial_movie_files\\PeekAnimation_right\\6246423</span> <span style=\"color: #7f7f7f; text-decoration-color: #7f7f7f\">                        </span>\n",
       "<span style=\"color: #7fbfbf; text-decoration-color: #7fbfbf\">                    </span>         <span style=\"color: #008000; text-decoration-color: #008000\">24_784179552_1149817125.mp4'</span>                                  <span style=\"color: #7f7f7f; text-decoration-color: #7f7f7f\">                        </span>\n",
       "</pre>\n"
      ],
      "text/plain": [
       "\u001b[2;36m[02/07/24 15:02:00]\u001b[0m\u001b[2;36m \u001b[0m\u001b[32mINFO    \u001b[0m Animation \u001b[32m3\u001b[0m : Partial movie file written in                   \u001b]8;id=422330;file://c:\\Users\\a829727\\AppData\\Local\\anaconda3\\envs\\semester_5\\lib\\site-packages\\manim\\scene\\scene_file_writer.py\u001b\\\u001b[2mscene_file_writer.py\u001b[0m\u001b]8;;\u001b\\\u001b[2m:\u001b[0m\u001b]8;id=340167;file://c:\\Users\\a829727\\AppData\\Local\\anaconda3\\envs\\semester_5\\lib\\site-packages\\manim\\scene\\scene_file_writer.py#527\u001b\\\u001b[2m527\u001b[0m\u001b]8;;\u001b\\\n",
       "\u001b[2;36m                    \u001b[0m         \u001b[32m'C:\\Users\\a829727\\OneDrive - Atos\\Dokumente\\Uni\\Semester \u001b[0m     \u001b[2m                        \u001b[0m\n",
       "\u001b[2;36m                    \u001b[0m         \u001b[32m5\\Integrationsseminar\\Graph-Cuts-Animation\\Lukas\\media\\videos\u001b[0m \u001b[2m                        \u001b[0m\n",
       "\u001b[2;36m                    \u001b[0m         \u001b[32m\\Lukas\\480p15\\partial_movie_files\\PeekAnimation_right\\6246423\u001b[0m \u001b[2m                        \u001b[0m\n",
       "\u001b[2;36m                    \u001b[0m         \u001b[32m24_784179552_1149817125.mp4'\u001b[0m                                  \u001b[2m                        \u001b[0m\n"
      ]
     },
     "metadata": {},
     "output_type": "display_data"
    },
    {
     "data": {
      "text/html": [
       "<pre style=\"white-space:pre;overflow-x:auto;line-height:normal;font-family:Menlo,'DejaVu Sans Mono',consolas,'Courier New',monospace\"><span style=\"color: #7fbfbf; text-decoration-color: #7fbfbf\">                    </span><span style=\"color: #008000; text-decoration-color: #008000\">INFO    </span> Combining to Movie file.                                      <a href=\"file://c:\\Users\\a829727\\AppData\\Local\\anaconda3\\envs\\semester_5\\lib\\site-packages\\manim\\scene\\scene_file_writer.py\" target=\"_blank\"><span style=\"color: #7f7f7f; text-decoration-color: #7f7f7f\">scene_file_writer.py</span></a><span style=\"color: #7f7f7f; text-decoration-color: #7f7f7f\">:</span><a href=\"file://c:\\Users\\a829727\\AppData\\Local\\anaconda3\\envs\\semester_5\\lib\\site-packages\\manim\\scene\\scene_file_writer.py#617\" target=\"_blank\"><span style=\"color: #7f7f7f; text-decoration-color: #7f7f7f\">617</span></a>\n",
       "</pre>\n"
      ],
      "text/plain": [
       "\u001b[2;36m                   \u001b[0m\u001b[2;36m \u001b[0m\u001b[32mINFO    \u001b[0m Combining to Movie file.                                      \u001b]8;id=971301;file://c:\\Users\\a829727\\AppData\\Local\\anaconda3\\envs\\semester_5\\lib\\site-packages\\manim\\scene\\scene_file_writer.py\u001b\\\u001b[2mscene_file_writer.py\u001b[0m\u001b]8;;\u001b\\\u001b[2m:\u001b[0m\u001b]8;id=715166;file://c:\\Users\\a829727\\AppData\\Local\\anaconda3\\envs\\semester_5\\lib\\site-packages\\manim\\scene\\scene_file_writer.py#617\u001b\\\u001b[2m617\u001b[0m\u001b]8;;\u001b\\\n"
      ]
     },
     "metadata": {},
     "output_type": "display_data"
    },
    {
     "data": {
      "text/html": [
       "<pre style=\"white-space:pre;overflow-x:auto;line-height:normal;font-family:Menlo,'DejaVu Sans Mono',consolas,'Courier New',monospace\"><span style=\"color: #7fbfbf; text-decoration-color: #7fbfbf\">[02/07/24 15:02:01] </span><span style=\"color: #008000; text-decoration-color: #008000\">INFO    </span>                                                               <a href=\"file://c:\\Users\\a829727\\AppData\\Local\\anaconda3\\envs\\semester_5\\lib\\site-packages\\manim\\scene\\scene_file_writer.py\" target=\"_blank\"><span style=\"color: #7f7f7f; text-decoration-color: #7f7f7f\">scene_file_writer.py</span></a><span style=\"color: #7f7f7f; text-decoration-color: #7f7f7f\">:</span><a href=\"file://c:\\Users\\a829727\\AppData\\Local\\anaconda3\\envs\\semester_5\\lib\\site-packages\\manim\\scene\\scene_file_writer.py#735\" target=\"_blank\"><span style=\"color: #7f7f7f; text-decoration-color: #7f7f7f\">735</span></a>\n",
       "<span style=\"color: #7fbfbf; text-decoration-color: #7fbfbf\">                    </span>         <span style=\"color: #808000; text-decoration-color: #808000; font-weight: bold\">File</span> ready at <span style=\"color: #008000; text-decoration-color: #008000\">'C:\\Users\\a829727\\OneDrive - </span>                   <span style=\"color: #7f7f7f; text-decoration-color: #7f7f7f\">                        </span>\n",
       "<span style=\"color: #7fbfbf; text-decoration-color: #7fbfbf\">                    </span>         <span style=\"color: #008000; text-decoration-color: #008000\">Atos\\Dokumente\\Uni\\Semester </span>                                  <span style=\"color: #7f7f7f; text-decoration-color: #7f7f7f\">                        </span>\n",
       "<span style=\"color: #7fbfbf; text-decoration-color: #7fbfbf\">                    </span>         <span style=\"color: #008000; text-decoration-color: #008000\">5\\Integrationsseminar\\Graph-Cuts-Animation\\Lukas\\media\\videos</span> <span style=\"color: #7f7f7f; text-decoration-color: #7f7f7f\">                        </span>\n",
       "<span style=\"color: #7fbfbf; text-decoration-color: #7fbfbf\">                    </span>         <span style=\"color: #008000; text-decoration-color: #008000\">\\Lukas\\480p15\\PeekAnimation_right.mp4'</span>                        <span style=\"color: #7f7f7f; text-decoration-color: #7f7f7f\">                        </span>\n",
       "<span style=\"color: #7fbfbf; text-decoration-color: #7fbfbf\">                    </span>                                                                       <span style=\"color: #7f7f7f; text-decoration-color: #7f7f7f\">                        </span>\n",
       "</pre>\n"
      ],
      "text/plain": [
       "\u001b[2;36m[02/07/24 15:02:01]\u001b[0m\u001b[2;36m \u001b[0m\u001b[32mINFO    \u001b[0m                                                               \u001b]8;id=475006;file://c:\\Users\\a829727\\AppData\\Local\\anaconda3\\envs\\semester_5\\lib\\site-packages\\manim\\scene\\scene_file_writer.py\u001b\\\u001b[2mscene_file_writer.py\u001b[0m\u001b]8;;\u001b\\\u001b[2m:\u001b[0m\u001b]8;id=322314;file://c:\\Users\\a829727\\AppData\\Local\\anaconda3\\envs\\semester_5\\lib\\site-packages\\manim\\scene\\scene_file_writer.py#735\u001b\\\u001b[2m735\u001b[0m\u001b]8;;\u001b\\\n",
       "\u001b[2;36m                    \u001b[0m         \u001b[1;33mFile\u001b[0m ready at \u001b[32m'C:\\Users\\a829727\\OneDrive - \u001b[0m                   \u001b[2m                        \u001b[0m\n",
       "\u001b[2;36m                    \u001b[0m         \u001b[32mAtos\\Dokumente\\Uni\\Semester \u001b[0m                                  \u001b[2m                        \u001b[0m\n",
       "\u001b[2;36m                    \u001b[0m         \u001b[32m5\\Integrationsseminar\\Graph-Cuts-Animation\\Lukas\\media\\videos\u001b[0m \u001b[2m                        \u001b[0m\n",
       "\u001b[2;36m                    \u001b[0m         \u001b[32m\\Lukas\\480p15\\PeekAnimation_right.mp4'\u001b[0m                        \u001b[2m                        \u001b[0m\n",
       "\u001b[2;36m                    \u001b[0m                                                                       \u001b[2m                        \u001b[0m\n"
      ]
     },
     "metadata": {},
     "output_type": "display_data"
    },
    {
     "data": {
      "text/html": [
       "<pre style=\"white-space:pre;overflow-x:auto;line-height:normal;font-family:Menlo,'DejaVu Sans Mono',consolas,'Courier New',monospace\"><span style=\"color: #7fbfbf; text-decoration-color: #7fbfbf\">                    </span><span style=\"color: #008000; text-decoration-color: #008000\">INFO    </span> <span style=\"color: #808000; text-decoration-color: #808000; font-weight: bold\">Rendered</span> PeekAnimation_right                                              <a href=\"file://c:\\Users\\a829727\\AppData\\Local\\anaconda3\\envs\\semester_5\\lib\\site-packages\\manim\\scene\\scene.py\" target=\"_blank\"><span style=\"color: #7f7f7f; text-decoration-color: #7f7f7f\">scene.py</span></a><span style=\"color: #7f7f7f; text-decoration-color: #7f7f7f\">:</span><a href=\"file://c:\\Users\\a829727\\AppData\\Local\\anaconda3\\envs\\semester_5\\lib\\site-packages\\manim\\scene\\scene.py#241\" target=\"_blank\"><span style=\"color: #7f7f7f; text-decoration-color: #7f7f7f\">241</span></a>\n",
       "<span style=\"color: #7fbfbf; text-decoration-color: #7fbfbf\">                    </span>         <span style=\"color: #808000; text-decoration-color: #808000; font-weight: bold\">Played</span> <span style=\"color: #008000; text-decoration-color: #008000\">4</span> <span style=\"color: #808000; text-decoration-color: #808000; font-weight: bold\">animations</span>                                                       <span style=\"color: #7f7f7f; text-decoration-color: #7f7f7f\">            </span>\n",
       "</pre>\n"
      ],
      "text/plain": [
       "\u001b[2;36m                   \u001b[0m\u001b[2;36m \u001b[0m\u001b[32mINFO    \u001b[0m \u001b[1;33mRendered\u001b[0m PeekAnimation_right                                              \u001b]8;id=512850;file://c:\\Users\\a829727\\AppData\\Local\\anaconda3\\envs\\semester_5\\lib\\site-packages\\manim\\scene\\scene.py\u001b\\\u001b[2mscene.py\u001b[0m\u001b]8;;\u001b\\\u001b[2m:\u001b[0m\u001b]8;id=640436;file://c:\\Users\\a829727\\AppData\\Local\\anaconda3\\envs\\semester_5\\lib\\site-packages\\manim\\scene\\scene.py#241\u001b\\\u001b[2m241\u001b[0m\u001b]8;;\u001b\\\n",
       "\u001b[2;36m                    \u001b[0m         \u001b[1;33mPlayed\u001b[0m \u001b[32m4\u001b[0m \u001b[1;33manimations\u001b[0m                                                       \u001b[2m            \u001b[0m\n"
      ]
     },
     "metadata": {},
     "output_type": "display_data"
    },
    {
     "data": {
      "text/html": [
       "<pre style=\"white-space:pre;overflow-x:auto;line-height:normal;font-family:Menlo,'DejaVu Sans Mono',consolas,'Courier New',monospace\"><span style=\"color: #7fbfbf; text-decoration-color: #7fbfbf\">[02/07/24 15:02:03] </span><span style=\"color: #008000; text-decoration-color: #008000\">INFO    </span> Previewed <span style=\"color: #808000; text-decoration-color: #808000; font-weight: bold\">File</span> at: <span style=\"color: #008000; text-decoration-color: #008000\">'C:\\Users\\a829727\\OneDrive - </span>                       <a href=\"file://c:\\Users\\a829727\\AppData\\Local\\anaconda3\\envs\\semester_5\\lib\\site-packages\\manim\\utils\\file_ops.py\" target=\"_blank\"><span style=\"color: #7f7f7f; text-decoration-color: #7f7f7f\">file_ops.py</span></a><span style=\"color: #7f7f7f; text-decoration-color: #7f7f7f\">:</span><a href=\"file://c:\\Users\\a829727\\AppData\\Local\\anaconda3\\envs\\semester_5\\lib\\site-packages\\manim\\utils\\file_ops.py#227\" target=\"_blank\"><span style=\"color: #7f7f7f; text-decoration-color: #7f7f7f\">227</span></a>\n",
       "<span style=\"color: #7fbfbf; text-decoration-color: #7fbfbf\">                    </span>         <span style=\"color: #008000; text-decoration-color: #008000\">Atos\\Dokumente\\Uni\\Semester </span>                                           <span style=\"color: #7f7f7f; text-decoration-color: #7f7f7f\">               </span>\n",
       "<span style=\"color: #7fbfbf; text-decoration-color: #7fbfbf\">                    </span>         <span style=\"color: #008000; text-decoration-color: #008000\">5\\Integrationsseminar\\Graph-Cuts-Animation\\Lukas\\media\\videos\\Lukas\\48</span> <span style=\"color: #7f7f7f; text-decoration-color: #7f7f7f\">               </span>\n",
       "<span style=\"color: #7fbfbf; text-decoration-color: #7fbfbf\">                    </span>         <span style=\"color: #008000; text-decoration-color: #008000\">0p15\\PeekAnimation_right.mp4'</span>                                          <span style=\"color: #7f7f7f; text-decoration-color: #7f7f7f\">               </span>\n",
       "</pre>\n"
      ],
      "text/plain": [
       "\u001b[2;36m[02/07/24 15:02:03]\u001b[0m\u001b[2;36m \u001b[0m\u001b[32mINFO    \u001b[0m Previewed \u001b[1;33mFile\u001b[0m at: \u001b[32m'C:\\Users\\a829727\\OneDrive - \u001b[0m                       \u001b]8;id=841713;file://c:\\Users\\a829727\\AppData\\Local\\anaconda3\\envs\\semester_5\\lib\\site-packages\\manim\\utils\\file_ops.py\u001b\\\u001b[2mfile_ops.py\u001b[0m\u001b]8;;\u001b\\\u001b[2m:\u001b[0m\u001b]8;id=411401;file://c:\\Users\\a829727\\AppData\\Local\\anaconda3\\envs\\semester_5\\lib\\site-packages\\manim\\utils\\file_ops.py#227\u001b\\\u001b[2m227\u001b[0m\u001b]8;;\u001b\\\n",
       "\u001b[2;36m                    \u001b[0m         \u001b[32mAtos\\Dokumente\\Uni\\Semester \u001b[0m                                           \u001b[2m               \u001b[0m\n",
       "\u001b[2;36m                    \u001b[0m         \u001b[32m5\\Integrationsseminar\\Graph-Cuts-Animation\\Lukas\\media\\videos\\Lukas\\48\u001b[0m \u001b[2m               \u001b[0m\n",
       "\u001b[2;36m                    \u001b[0m         \u001b[32m0p15\\PeekAnimation_right.mp4'\u001b[0m                                          \u001b[2m               \u001b[0m\n"
      ]
     },
     "metadata": {},
     "output_type": "display_data"
    },
    {
     "data": {
      "text/html": [
       "<video src=\"media\\jupyter\\PeekAnimation_right@2024-02-07@15-02-03.mp4\" controls autoplay loop style=\"max-width: 60%;\"  >\n",
       "      Your browser does not support the <code>video</code> element.\n",
       "    </video>"
      ],
      "text/plain": [
       "<IPython.core.display.Video object>"
      ]
     },
     "metadata": {},
     "output_type": "display_data"
    }
   ],
   "source": [
    "%manim -pql PeekAnimation_right"
   ]
  },
  {
   "cell_type": "markdown",
   "metadata": {},
   "source": [
    "### unten Links"
   ]
  },
  {
   "cell_type": "code",
   "execution_count": null,
   "metadata": {},
   "outputs": [],
   "source": [
    "class PeekAnimation_left(Scene):\n",
    "    def construct(self):\n",
    "        # Lade das Bild als ImageMobject\n",
    "        tom = ImageMobject(\"../Bilder/Einstieg/Verwirrt.png\")\n",
    "        \n",
    "        # Skaliere das Bild nach Bedarf\n",
    "        tom.scale(0.5) # Passt die Größe des Bildes an\n",
    "        \n",
    "        \n",
    "        # Positioniere die Figur außerhalb des sichtbaren Bereichs (rechts unten)\n",
    "        \n",
    "        tom.move_to(DOWN*7+LEFT*5)\n",
    "        \n",
    "        # Bewege die Figur leicht nach links gedreht ins Bild\n",
    "        self.play(tom.animate.move_to(DOWN*3+LEFT*5))\n",
    "        self.play(tom.animate.rotate(0.3))\n",
    "        self.wait (7)\n",
    "        self.play(tom.animate.move_to(DOWN*7+LEFT*5))\n",
    "        \n",
    "        # Ende der Animation\n",
    "        self.wait(2)\n",
    "\n"
   ]
  },
  {
   "cell_type": "code",
   "execution_count": null,
   "metadata": {},
   "outputs": [],
   "source": [
    "%manim -pql PeekAnimation_left"
   ]
  },
  {
   "cell_type": "markdown",
   "metadata": {},
   "source": [
    "### Unten Rechts"
   ]
  },
  {
   "cell_type": "code",
   "execution_count": null,
   "metadata": {},
   "outputs": [],
   "source": [
    "class PeekAnimation(Scene):\n",
    "    def construct(self):\n",
    "        # Lade das Bild als ImageMobject\n",
    "        tom = ImageMobject(\"../Bilder/Einstieg/Verwirrt.png\")\n",
    "        \n",
    "        # Skaliere das Bild nach Bedarf\n",
    "        tom.scale(0.5) # Passt die Größe des Bildes an\n",
    "        \n",
    "        \n",
    "        # Positioniere die Figur außerhalb des sichtbaren Bereichs (rechts unten)\n",
    "        \n",
    "        tom.move_to(DOWN*7+RIGHT*5)\n",
    "        \n",
    "        # Bewege die Figur leicht nach links gedreht ins Bild\n",
    "        self.play(tom.animate.move_to(DOWN*3+RIGHT*5))\n",
    "        self.play(tom.animate.rotate(-0.3))\n",
    "        \n",
    "        # Warte einen Moment, während die Figur sichtbar ist\n",
    "        self.wait(3)\n",
    "\n",
    "        tom_h = ImageMobject(\"../Bilder/Einstieg/Happy.png\")\n",
    "        tom_h.scale(0.5).rotate(-0.3)\n",
    "        tom_h.move_to(DOWN*2.9+RIGHT*4.9)\n",
    "\n",
    "        self.play(FadeTransform(tom,tom_h))\n",
    "        # Bewege die Figur zurück außerhalb des sichtbaren Bereichs\n",
    "        self.play(tom_h.animate.move_to(DOWN*7+RIGHT*5))\n",
    "        \n",
    "        # Ende der Animation\n",
    "        self.wait(2)\n",
    "\n"
   ]
  },
  {
   "cell_type": "code",
   "execution_count": null,
   "metadata": {},
   "outputs": [],
   "source": [
    "%manim -pql PeekAnimation"
   ]
  },
  {
   "cell_type": "markdown",
   "metadata": {},
   "source": [
    "### Einstieg"
   ]
  },
  {
   "cell_type": "code",
   "execution_count": null,
   "metadata": {},
   "outputs": [],
   "source": [
    "class Anfang(Scene):\n",
    "    def construct(self):\n",
    "        # Lade das Bild als ImageMobject\n",
    "        space = ImageMobject(\"../Bilder/Einstieg/Einstieg_Space.PNG\").scale(1.1)\n",
    "        self.add(space)\n",
    "        tom= ImageMobject(\"../Bilder/Einstieg/Kamera_tom.png\")\n",
    "        tom.scale(0.5)\n",
    "        tom.move_to(LEFT*5+DOWN*3).rotate(-0.4)\n",
    "        self.add(tom)\n",
    "\n",
    "        # Anwenden von Bewegung und Rotation auf `tom`, mit einer Gesamtdauer von 10 Sekunden\n",
    "        # Hier führen wir beide Animationen gleichzeitig aus\n",
    "        self.play(\n",
    "            tom.animate.move_to(UP * 2 + RIGHT),\n",
    "            run_time=10\n",
    "        )\n",
    "        tom_f=ImageMobject(\"../Bilder/Einstieg/Happy_foto.png\")\n",
    "        tom_f.scale(0.5)\n",
    "        tom_f.move_to(UP * 2.1 + RIGHT*1.1).rotate(-0.4)\n",
    "\n",
    "        self.play(\n",
    "            FadeTransform(tom,tom_f)\n",
    "        )\n",
    "        self.wait(2)\n",
    "        star = Star(n=20,  # Anzahl der Spitzen des Sterns\n",
    "                    outer_radius=1,  # Äußerer Radius des Sterns\n",
    "                    inner_radius=0.5,  # Innerer Radius des Sterns\n",
    "                    fill_color=WHITE,  # Füllfarbe des Sterns\n",
    "                    fill_opacity=1,  # Deckkraft der Füllfarbe\n",
    "                    stroke_color=BLACK,  # Farbe der Linie\n",
    "                    stroke_width=3)  # Breite der Linie\n",
    "\n",
    "        star.move_to(UP * 2.1 + RIGHT*1.1)\n",
    "        # Hinzufügen des Sterns zur Szene\n",
    "        self.add(star)\n",
    "\n",
    "        # Skalieren des Sterns innerhalb von 0.1 Sekunden\n",
    "        self.play(star.animate.scale(20),  # Skalierungsfaktor\n",
    "                  run_time=0.2)\n",
    "        self.wait(2)"
   ]
  },
  {
   "cell_type": "code",
   "execution_count": null,
   "metadata": {},
   "outputs": [],
   "source": [
    "%manim -pql Anfang"
   ]
  },
  {
   "cell_type": "code",
   "execution_count": null,
   "metadata": {},
   "outputs": [],
   "source": [
    "class Ende(Scene):\n",
    "    def construct(self):\n",
    "        \n",
    "        tom= ImageMobject(\"../Bilder/Einstieg/Happy.png\")\n",
    "        tom.scale(0.2)\n",
    "        erde= ImageMobject(\"../Bilder/Erde.png\")\n",
    "        mond= ImageMobject(\"../Bilder/Mond.png\")\n",
    "        \n",
    "        erde.move_to(LEFT*2)\n",
    "        mond.move_to(LEFT*2)\n",
    "        self.add(erde,mond)\n",
    "        tom.move_to(RIGHT*5+DOWN*3).rotate(0.4)\n",
    "        self.add(tom)\n",
    "\n",
    "        # Anwenden von Bewegung und Rotation auf `tom`, mit einer Gesamtdauer von 10 Sekunden\n",
    "        # Hier führen wir beide Animationen gleichzeitig aus\n",
    "        self.play(\n",
    "            tom.animate.move_to(UP * 2 + LEFT),\n",
    "            run_time=10\n",
    "        )\n",
    "        "
   ]
  },
  {
   "cell_type": "code",
   "execution_count": null,
   "metadata": {},
   "outputs": [],
   "source": [
    "%manim -pql Ende"
   ]
  },
  {
   "cell_type": "code",
   "execution_count": null,
   "metadata": {},
   "outputs": [],
   "source": []
  }
 ],
 "metadata": {
  "kernelspec": {
   "display_name": "semester_5",
   "language": "python",
   "name": "python3"
  },
  "language_info": {
   "codemirror_mode": {
    "name": "ipython",
    "version": 3
   },
   "file_extension": ".py",
   "mimetype": "text/x-python",
   "name": "python",
   "nbconvert_exporter": "python",
   "pygments_lexer": "ipython3",
   "version": "3.9.18"
  }
 },
 "nbformat": 4,
 "nbformat_minor": 2
}
