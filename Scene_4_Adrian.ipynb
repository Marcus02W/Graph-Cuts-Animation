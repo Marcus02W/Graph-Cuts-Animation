{
 "cells": [
  {
   "cell_type": "code",
   "execution_count": 2,
   "metadata": {},
   "outputs": [
    {
     "name": "stdout",
     "output_type": "stream",
     "text": [
      "The manim module is not an IPython extension.\n"
     ]
    }
   ],
   "source": [
    "%load_ext manim"
   ]
  },
  {
   "cell_type": "code",
   "execution_count": 1,
   "metadata": {},
   "outputs": [
    {
     "data": {
      "text/html": [
       "<pre style=\"white-space:pre;overflow-x:auto;line-height:normal;font-family:Menlo,'DejaVu Sans Mono',consolas,'Courier New',monospace\">Manim Community <span style=\"color: #008000; text-decoration-color: #008000\">v0.18.0</span>\n",
       "\n",
       "</pre>\n"
      ],
      "text/plain": [
       "Manim Community \u001b[32mv0.\u001b[0m\u001b[32m18.0\u001b[0m\n",
       "\n"
      ]
     },
     "metadata": {},
     "output_type": "display_data"
    }
   ],
   "source": [
    "from manim import *\n",
    "import networkx as nx\n",
    "\n",
    "config.tex_compiler = \"pdflatex\"\n",
    "config.background_color = BLACK  # Set the global background color\n",
    "config.color = WHITE"
   ]
  },
  {
   "cell_type": "code",
   "execution_count": 3,
   "metadata": {},
   "outputs": [],
   "source": [
    "# Create a new graph\n",
    "G = nx.Graph()\n",
    "\n",
    "# Add nodes and edges for a 10x10 grid, including diagonal connections\n",
    "y = 10\n",
    "x = 10\n",
    "for i in range(x):\n",
    "    for j in range(y):\n",
    "        # Add node\n",
    "        G.add_node((i, j))\n",
    "\n",
    "        # Add edges to neighboring nodes (including diagonals)\n",
    "        if i > 0:\n",
    "            G.add_edge((i, j), (i - 1, j))  # Edge to the left\n",
    "            if j > 0:\n",
    "                G.add_edge((i, j), (i - 1, j - 1))  # Diagonal left-top\n",
    "            if j < 9:\n",
    "                G.add_edge((i, j), (i - 1, j + 1))  # Diagonal left-bottom\n",
    "        if j > 0:\n",
    "            G.add_edge((i, j), (i, j - 1))  # Edge to the top\n",
    "        if i < 9:\n",
    "            G.add_edge((i, j), (i + 1, j))  # Edge to the right\n",
    "            if j > 0:\n",
    "                G.add_edge((i, j), (i + 1, j - 1))  # Diagonal right-top\n",
    "            if j < 9:\n",
    "                G.add_edge((i, j), (i + 1, j + 1))  # Diagonal right-bottom\n",
    "        if j < 9:\n",
    "            G.add_edge((i, j), (i, j + 1))  # Edge to the bottom\n",
    "\n",
    "# Define positions for the nodes in the graph\n",
    "pos = {(i, j): (i, j) for i in range(10) for j in range(10)}\n",
    "\n",
    "# Define nodes for Moon and Earth\n",
    "moon_nodes = [(7,8), (6,7), (7,7), (8,7), (7,6)]\n",
    "earth_nodes = [(5,7), (4,7), (3,6), (4,6), (5,6), (6,6), (2,5), (3,5), (4,5), (5,5), (6,5), (7,5), \n",
    "               (2,4), (3,4), (4,4), (5,4), (6,4), (7,4), (3,3), (4,3), (5,3), (6,3), (4,2), (5,2)]\n",
    "\n",
    "# Set colors for each node\n",
    "node_colors = []\n",
    "for node in G.nodes():\n",
    "    if node in moon_nodes:\n",
    "        node_colors.append('#bdb900')  # Color for Moon\n",
    "    elif node in earth_nodes:\n",
    "        node_colors.append('#318ab3')  # Color for Earth\n",
    "    else:\n",
    "        node_colors.append('black')  # Default color\n",
    "\n",
    "class pre_Scene_4(MovingCameraScene):\n",
    "    def construct(self):\n",
    "        # Konvertiere die 2D-Koordinaten in 3D-Koordinaten für Manim\n",
    "        pos_3d = {node: (x, y, 0) for node, (x, y) in pos.items()}\n",
    "\n",
    "        # Definiere die Farben für jeden Knoten\n",
    "        node_colors = {node: ('#bdb900' if node in moon_nodes else \n",
    "                              '#318ab3' if node in earth_nodes else \n",
    "                              '#68228B') for node in G.nodes()}\n",
    "\n",
    "        # Konfiguration für die Knoten\n",
    "        vertex_config = {\n",
    "            node: {\"radius\": 0.2, \"color\": node_colors[node]}\n",
    "            for node in G.nodes()\n",
    "        }\n",
    "        \n",
    "        # Konfiguration für die Kanten\n",
    "        edge_config = {\n",
    "            edge: {\"stroke_color\": \"#666666\"}\n",
    "            for edge in G.edges()\n",
    "        }\n",
    "        # Erstelle einen Manim-Graphen aus dem networkx-Graphen\n",
    "        m_graph = Graph(list(G.nodes), list(G.edges), layout=pos_3d, layout_scale=1, labels=False, \n",
    "                        vertex_config=vertex_config, edge_config=edge_config)\n",
    "\n",
    "\n",
    "        # Zentriere den Graphen in der Szene\n",
    "        m_graph.move_to(ORIGIN)\n",
    "        m_graph.scale(0.7)\n",
    "\n",
    "        # Füge den Graphen zur Szene hinzu\n",
    "        self.play(Create(m_graph), run_time=5)\n",
    "        self.wait(2)\n",
    "        self.play(self.camera.frame.animate.move_to([1, -1.75, 0]).scale(0.25), run_time=2)\n",
    "        self.wait(2)\n"
   ]
  },
  {
   "cell_type": "code",
   "execution_count": 4,
   "metadata": {},
   "outputs": [
    {
     "name": "stderr",
     "output_type": "stream",
     "text": [
      "                                                                                                                    \r"
     ]
    },
    {
     "data": {
      "text/html": [
       "<pre style=\"white-space:pre;overflow-x:auto;line-height:normal;font-family:Menlo,'DejaVu Sans Mono',consolas,'Courier New',monospace\"><span style=\"color: #7fbfbf; text-decoration-color: #7fbfbf\">[02/07/24 15:14:11] </span><span style=\"color: #008000; text-decoration-color: #008000\">INFO    </span> Animation <span style=\"color: #008000; text-decoration-color: #008000\">0</span> : Partial movie file written in                   <a href=\"file://c:\\Users\\a829727\\AppData\\Local\\anaconda3\\envs\\semester_5\\lib\\site-packages\\manim\\scene\\scene_file_writer.py\" target=\"_blank\"><span style=\"color: #7f7f7f; text-decoration-color: #7f7f7f\">scene_file_writer.py</span></a><span style=\"color: #7f7f7f; text-decoration-color: #7f7f7f\">:</span><a href=\"file://c:\\Users\\a829727\\AppData\\Local\\anaconda3\\envs\\semester_5\\lib\\site-packages\\manim\\scene\\scene_file_writer.py#527\" target=\"_blank\"><span style=\"color: #7f7f7f; text-decoration-color: #7f7f7f\">527</span></a>\n",
       "<span style=\"color: #7fbfbf; text-decoration-color: #7fbfbf\">                    </span>         <span style=\"color: #008000; text-decoration-color: #008000\">'C:\\Users\\a829727\\OneDrive - Atos\\Dokumente\\Uni\\Semester </span>     <span style=\"color: #7f7f7f; text-decoration-color: #7f7f7f\">                        </span>\n",
       "<span style=\"color: #7fbfbf; text-decoration-color: #7fbfbf\">                    </span>         <span style=\"color: #008000; text-decoration-color: #008000\">5\\Integrationsseminar\\Graph-Cuts-Animation\\media\\videos\\Graph</span> <span style=\"color: #7f7f7f; text-decoration-color: #7f7f7f\">                        </span>\n",
       "<span style=\"color: #7fbfbf; text-decoration-color: #7fbfbf\">                    </span>         <span style=\"color: #008000; text-decoration-color: #008000\">-Cuts-Animation\\480p15\\partial_movie_files\\pre_Scene_4\\646630</span> <span style=\"color: #7f7f7f; text-decoration-color: #7f7f7f\">                        </span>\n",
       "<span style=\"color: #7fbfbf; text-decoration-color: #7fbfbf\">                    </span>         <span style=\"color: #008000; text-decoration-color: #008000\">596_2120571792_223132457.mp4'</span>                                 <span style=\"color: #7f7f7f; text-decoration-color: #7f7f7f\">                        </span>\n",
       "</pre>\n"
      ],
      "text/plain": [
       "\u001b[2;36m[02/07/24 15:14:11]\u001b[0m\u001b[2;36m \u001b[0m\u001b[32mINFO    \u001b[0m Animation \u001b[32m0\u001b[0m : Partial movie file written in                   \u001b]8;id=978771;file://c:\\Users\\a829727\\AppData\\Local\\anaconda3\\envs\\semester_5\\lib\\site-packages\\manim\\scene\\scene_file_writer.py\u001b\\\u001b[2mscene_file_writer.py\u001b[0m\u001b]8;;\u001b\\\u001b[2m:\u001b[0m\u001b]8;id=997173;file://c:\\Users\\a829727\\AppData\\Local\\anaconda3\\envs\\semester_5\\lib\\site-packages\\manim\\scene\\scene_file_writer.py#527\u001b\\\u001b[2m527\u001b[0m\u001b]8;;\u001b\\\n",
       "\u001b[2;36m                    \u001b[0m         \u001b[32m'C:\\Users\\a829727\\OneDrive - Atos\\Dokumente\\Uni\\Semester \u001b[0m     \u001b[2m                        \u001b[0m\n",
       "\u001b[2;36m                    \u001b[0m         \u001b[32m5\\Integrationsseminar\\Graph-Cuts-Animation\\media\\videos\\Graph\u001b[0m \u001b[2m                        \u001b[0m\n",
       "\u001b[2;36m                    \u001b[0m         \u001b[32m-Cuts-Animation\\480p15\\partial_movie_files\\pre_Scene_4\\646630\u001b[0m \u001b[2m                        \u001b[0m\n",
       "\u001b[2;36m                    \u001b[0m         \u001b[32m596_2120571792_223132457.mp4'\u001b[0m                                 \u001b[2m                        \u001b[0m\n"
      ]
     },
     "metadata": {},
     "output_type": "display_data"
    },
    {
     "data": {
      "text/html": [
       "<pre style=\"white-space:pre;overflow-x:auto;line-height:normal;font-family:Menlo,'DejaVu Sans Mono',consolas,'Courier New',monospace\"><span style=\"color: #7fbfbf; text-decoration-color: #7fbfbf\">[02/07/24 15:14:13] </span><span style=\"color: #008000; text-decoration-color: #008000\">INFO    </span> Animation <span style=\"color: #008000; text-decoration-color: #008000\">1</span> : Partial movie file written in                   <a href=\"file://c:\\Users\\a829727\\AppData\\Local\\anaconda3\\envs\\semester_5\\lib\\site-packages\\manim\\scene\\scene_file_writer.py\" target=\"_blank\"><span style=\"color: #7f7f7f; text-decoration-color: #7f7f7f\">scene_file_writer.py</span></a><span style=\"color: #7f7f7f; text-decoration-color: #7f7f7f\">:</span><a href=\"file://c:\\Users\\a829727\\AppData\\Local\\anaconda3\\envs\\semester_5\\lib\\site-packages\\manim\\scene\\scene_file_writer.py#527\" target=\"_blank\"><span style=\"color: #7f7f7f; text-decoration-color: #7f7f7f\">527</span></a>\n",
       "<span style=\"color: #7fbfbf; text-decoration-color: #7fbfbf\">                    </span>         <span style=\"color: #008000; text-decoration-color: #008000\">'C:\\Users\\a829727\\OneDrive - Atos\\Dokumente\\Uni\\Semester </span>     <span style=\"color: #7f7f7f; text-decoration-color: #7f7f7f\">                        </span>\n",
       "<span style=\"color: #7fbfbf; text-decoration-color: #7fbfbf\">                    </span>         <span style=\"color: #008000; text-decoration-color: #008000\">5\\Integrationsseminar\\Graph-Cuts-Animation\\media\\videos\\Graph</span> <span style=\"color: #7f7f7f; text-decoration-color: #7f7f7f\">                        </span>\n",
       "<span style=\"color: #7fbfbf; text-decoration-color: #7fbfbf\">                    </span>         <span style=\"color: #008000; text-decoration-color: #008000\">-Cuts-Animation\\480p15\\partial_movie_files\\pre_Scene_4\\119457</span> <span style=\"color: #7f7f7f; text-decoration-color: #7f7f7f\">                        </span>\n",
       "<span style=\"color: #7fbfbf; text-decoration-color: #7fbfbf\">                    </span>         <span style=\"color: #008000; text-decoration-color: #008000\">9348_3494816192_137639990.mp4'</span>                                <span style=\"color: #7f7f7f; text-decoration-color: #7f7f7f\">                        </span>\n",
       "</pre>\n"
      ],
      "text/plain": [
       "\u001b[2;36m[02/07/24 15:14:13]\u001b[0m\u001b[2;36m \u001b[0m\u001b[32mINFO    \u001b[0m Animation \u001b[32m1\u001b[0m : Partial movie file written in                   \u001b]8;id=653785;file://c:\\Users\\a829727\\AppData\\Local\\anaconda3\\envs\\semester_5\\lib\\site-packages\\manim\\scene\\scene_file_writer.py\u001b\\\u001b[2mscene_file_writer.py\u001b[0m\u001b]8;;\u001b\\\u001b[2m:\u001b[0m\u001b]8;id=597669;file://c:\\Users\\a829727\\AppData\\Local\\anaconda3\\envs\\semester_5\\lib\\site-packages\\manim\\scene\\scene_file_writer.py#527\u001b\\\u001b[2m527\u001b[0m\u001b]8;;\u001b\\\n",
       "\u001b[2;36m                    \u001b[0m         \u001b[32m'C:\\Users\\a829727\\OneDrive - Atos\\Dokumente\\Uni\\Semester \u001b[0m     \u001b[2m                        \u001b[0m\n",
       "\u001b[2;36m                    \u001b[0m         \u001b[32m5\\Integrationsseminar\\Graph-Cuts-Animation\\media\\videos\\Graph\u001b[0m \u001b[2m                        \u001b[0m\n",
       "\u001b[2;36m                    \u001b[0m         \u001b[32m-Cuts-Animation\\480p15\\partial_movie_files\\pre_Scene_4\\119457\u001b[0m \u001b[2m                        \u001b[0m\n",
       "\u001b[2;36m                    \u001b[0m         \u001b[32m9348_3494816192_137639990.mp4'\u001b[0m                                \u001b[2m                        \u001b[0m\n"
      ]
     },
     "metadata": {},
     "output_type": "display_data"
    },
    {
     "name": "stderr",
     "output_type": "stream",
     "text": [
      "                                                                                               \r"
     ]
    },
    {
     "data": {
      "text/html": [
       "<pre style=\"white-space:pre;overflow-x:auto;line-height:normal;font-family:Menlo,'DejaVu Sans Mono',consolas,'Courier New',monospace\"><span style=\"color: #7fbfbf; text-decoration-color: #7fbfbf\">[02/07/24 15:14:29] </span><span style=\"color: #008000; text-decoration-color: #008000\">INFO    </span> Animation <span style=\"color: #008000; text-decoration-color: #008000\">2</span> : Partial movie file written in                   <a href=\"file://c:\\Users\\a829727\\AppData\\Local\\anaconda3\\envs\\semester_5\\lib\\site-packages\\manim\\scene\\scene_file_writer.py\" target=\"_blank\"><span style=\"color: #7f7f7f; text-decoration-color: #7f7f7f\">scene_file_writer.py</span></a><span style=\"color: #7f7f7f; text-decoration-color: #7f7f7f\">:</span><a href=\"file://c:\\Users\\a829727\\AppData\\Local\\anaconda3\\envs\\semester_5\\lib\\site-packages\\manim\\scene\\scene_file_writer.py#527\" target=\"_blank\"><span style=\"color: #7f7f7f; text-decoration-color: #7f7f7f\">527</span></a>\n",
       "<span style=\"color: #7fbfbf; text-decoration-color: #7fbfbf\">                    </span>         <span style=\"color: #008000; text-decoration-color: #008000\">'C:\\Users\\a829727\\OneDrive - Atos\\Dokumente\\Uni\\Semester </span>     <span style=\"color: #7f7f7f; text-decoration-color: #7f7f7f\">                        </span>\n",
       "<span style=\"color: #7fbfbf; text-decoration-color: #7fbfbf\">                    </span>         <span style=\"color: #008000; text-decoration-color: #008000\">5\\Integrationsseminar\\Graph-Cuts-Animation\\media\\videos\\Graph</span> <span style=\"color: #7f7f7f; text-decoration-color: #7f7f7f\">                        </span>\n",
       "<span style=\"color: #7fbfbf; text-decoration-color: #7fbfbf\">                    </span>         <span style=\"color: #008000; text-decoration-color: #008000\">-Cuts-Animation\\480p15\\partial_movie_files\\pre_Scene_4\\317956</span> <span style=\"color: #7f7f7f; text-decoration-color: #7f7f7f\">                        </span>\n",
       "<span style=\"color: #7fbfbf; text-decoration-color: #7fbfbf\">                    </span>         <span style=\"color: #008000; text-decoration-color: #008000\">6881_2935179485_1243651253.mp4'</span>                               <span style=\"color: #7f7f7f; text-decoration-color: #7f7f7f\">                        </span>\n",
       "</pre>\n"
      ],
      "text/plain": [
       "\u001b[2;36m[02/07/24 15:14:29]\u001b[0m\u001b[2;36m \u001b[0m\u001b[32mINFO    \u001b[0m Animation \u001b[32m2\u001b[0m : Partial movie file written in                   \u001b]8;id=689359;file://c:\\Users\\a829727\\AppData\\Local\\anaconda3\\envs\\semester_5\\lib\\site-packages\\manim\\scene\\scene_file_writer.py\u001b\\\u001b[2mscene_file_writer.py\u001b[0m\u001b]8;;\u001b\\\u001b[2m:\u001b[0m\u001b]8;id=647904;file://c:\\Users\\a829727\\AppData\\Local\\anaconda3\\envs\\semester_5\\lib\\site-packages\\manim\\scene\\scene_file_writer.py#527\u001b\\\u001b[2m527\u001b[0m\u001b]8;;\u001b\\\n",
       "\u001b[2;36m                    \u001b[0m         \u001b[32m'C:\\Users\\a829727\\OneDrive - Atos\\Dokumente\\Uni\\Semester \u001b[0m     \u001b[2m                        \u001b[0m\n",
       "\u001b[2;36m                    \u001b[0m         \u001b[32m5\\Integrationsseminar\\Graph-Cuts-Animation\\media\\videos\\Graph\u001b[0m \u001b[2m                        \u001b[0m\n",
       "\u001b[2;36m                    \u001b[0m         \u001b[32m-Cuts-Animation\\480p15\\partial_movie_files\\pre_Scene_4\\317956\u001b[0m \u001b[2m                        \u001b[0m\n",
       "\u001b[2;36m                    \u001b[0m         \u001b[32m6881_2935179485_1243651253.mp4'\u001b[0m                               \u001b[2m                        \u001b[0m\n"
      ]
     },
     "metadata": {},
     "output_type": "display_data"
    },
    {
     "data": {
      "text/html": [
       "<pre style=\"white-space:pre;overflow-x:auto;line-height:normal;font-family:Menlo,'DejaVu Sans Mono',consolas,'Courier New',monospace\"><span style=\"color: #7fbfbf; text-decoration-color: #7fbfbf\">[02/07/24 15:14:30] </span><span style=\"color: #008000; text-decoration-color: #008000\">INFO    </span> Animation <span style=\"color: #008000; text-decoration-color: #008000\">3</span> : Partial movie file written in                   <a href=\"file://c:\\Users\\a829727\\AppData\\Local\\anaconda3\\envs\\semester_5\\lib\\site-packages\\manim\\scene\\scene_file_writer.py\" target=\"_blank\"><span style=\"color: #7f7f7f; text-decoration-color: #7f7f7f\">scene_file_writer.py</span></a><span style=\"color: #7f7f7f; text-decoration-color: #7f7f7f\">:</span><a href=\"file://c:\\Users\\a829727\\AppData\\Local\\anaconda3\\envs\\semester_5\\lib\\site-packages\\manim\\scene\\scene_file_writer.py#527\" target=\"_blank\"><span style=\"color: #7f7f7f; text-decoration-color: #7f7f7f\">527</span></a>\n",
       "<span style=\"color: #7fbfbf; text-decoration-color: #7fbfbf\">                    </span>         <span style=\"color: #008000; text-decoration-color: #008000\">'C:\\Users\\a829727\\OneDrive - Atos\\Dokumente\\Uni\\Semester </span>     <span style=\"color: #7f7f7f; text-decoration-color: #7f7f7f\">                        </span>\n",
       "<span style=\"color: #7fbfbf; text-decoration-color: #7fbfbf\">                    </span>         <span style=\"color: #008000; text-decoration-color: #008000\">5\\Integrationsseminar\\Graph-Cuts-Animation\\media\\videos\\Graph</span> <span style=\"color: #7f7f7f; text-decoration-color: #7f7f7f\">                        </span>\n",
       "<span style=\"color: #7fbfbf; text-decoration-color: #7fbfbf\">                    </span>         <span style=\"color: #008000; text-decoration-color: #008000\">-Cuts-Animation\\480p15\\partial_movie_files\\pre_Scene_4\\416017</span> <span style=\"color: #7f7f7f; text-decoration-color: #7f7f7f\">                        </span>\n",
       "<span style=\"color: #7fbfbf; text-decoration-color: #7fbfbf\">                    </span>         <span style=\"color: #008000; text-decoration-color: #008000\">973_66111383_4119308635.mp4'</span>                                  <span style=\"color: #7f7f7f; text-decoration-color: #7f7f7f\">                        </span>\n",
       "</pre>\n"
      ],
      "text/plain": [
       "\u001b[2;36m[02/07/24 15:14:30]\u001b[0m\u001b[2;36m \u001b[0m\u001b[32mINFO    \u001b[0m Animation \u001b[32m3\u001b[0m : Partial movie file written in                   \u001b]8;id=183027;file://c:\\Users\\a829727\\AppData\\Local\\anaconda3\\envs\\semester_5\\lib\\site-packages\\manim\\scene\\scene_file_writer.py\u001b\\\u001b[2mscene_file_writer.py\u001b[0m\u001b]8;;\u001b\\\u001b[2m:\u001b[0m\u001b]8;id=367971;file://c:\\Users\\a829727\\AppData\\Local\\anaconda3\\envs\\semester_5\\lib\\site-packages\\manim\\scene\\scene_file_writer.py#527\u001b\\\u001b[2m527\u001b[0m\u001b]8;;\u001b\\\n",
       "\u001b[2;36m                    \u001b[0m         \u001b[32m'C:\\Users\\a829727\\OneDrive - Atos\\Dokumente\\Uni\\Semester \u001b[0m     \u001b[2m                        \u001b[0m\n",
       "\u001b[2;36m                    \u001b[0m         \u001b[32m5\\Integrationsseminar\\Graph-Cuts-Animation\\media\\videos\\Graph\u001b[0m \u001b[2m                        \u001b[0m\n",
       "\u001b[2;36m                    \u001b[0m         \u001b[32m-Cuts-Animation\\480p15\\partial_movie_files\\pre_Scene_4\\416017\u001b[0m \u001b[2m                        \u001b[0m\n",
       "\u001b[2;36m                    \u001b[0m         \u001b[32m973_66111383_4119308635.mp4'\u001b[0m                                  \u001b[2m                        \u001b[0m\n"
      ]
     },
     "metadata": {},
     "output_type": "display_data"
    },
    {
     "data": {
      "text/html": [
       "<pre style=\"white-space:pre;overflow-x:auto;line-height:normal;font-family:Menlo,'DejaVu Sans Mono',consolas,'Courier New',monospace\"><span style=\"color: #7fbfbf; text-decoration-color: #7fbfbf\">                    </span><span style=\"color: #008000; text-decoration-color: #008000\">INFO    </span> Combining to Movie file.                                      <a href=\"file://c:\\Users\\a829727\\AppData\\Local\\anaconda3\\envs\\semester_5\\lib\\site-packages\\manim\\scene\\scene_file_writer.py\" target=\"_blank\"><span style=\"color: #7f7f7f; text-decoration-color: #7f7f7f\">scene_file_writer.py</span></a><span style=\"color: #7f7f7f; text-decoration-color: #7f7f7f\">:</span><a href=\"file://c:\\Users\\a829727\\AppData\\Local\\anaconda3\\envs\\semester_5\\lib\\site-packages\\manim\\scene\\scene_file_writer.py#617\" target=\"_blank\"><span style=\"color: #7f7f7f; text-decoration-color: #7f7f7f\">617</span></a>\n",
       "</pre>\n"
      ],
      "text/plain": [
       "\u001b[2;36m                   \u001b[0m\u001b[2;36m \u001b[0m\u001b[32mINFO    \u001b[0m Combining to Movie file.                                      \u001b]8;id=635732;file://c:\\Users\\a829727\\AppData\\Local\\anaconda3\\envs\\semester_5\\lib\\site-packages\\manim\\scene\\scene_file_writer.py\u001b\\\u001b[2mscene_file_writer.py\u001b[0m\u001b]8;;\u001b\\\u001b[2m:\u001b[0m\u001b]8;id=953597;file://c:\\Users\\a829727\\AppData\\Local\\anaconda3\\envs\\semester_5\\lib\\site-packages\\manim\\scene\\scene_file_writer.py#617\u001b\\\u001b[2m617\u001b[0m\u001b]8;;\u001b\\\n"
      ]
     },
     "metadata": {},
     "output_type": "display_data"
    },
    {
     "data": {
      "text/html": [
       "<pre style=\"white-space:pre;overflow-x:auto;line-height:normal;font-family:Menlo,'DejaVu Sans Mono',consolas,'Courier New',monospace\"><span style=\"color: #7fbfbf; text-decoration-color: #7fbfbf\">[02/07/24 15:14:31] </span><span style=\"color: #008000; text-decoration-color: #008000\">INFO    </span>                                                               <a href=\"file://c:\\Users\\a829727\\AppData\\Local\\anaconda3\\envs\\semester_5\\lib\\site-packages\\manim\\scene\\scene_file_writer.py\" target=\"_blank\"><span style=\"color: #7f7f7f; text-decoration-color: #7f7f7f\">scene_file_writer.py</span></a><span style=\"color: #7f7f7f; text-decoration-color: #7f7f7f\">:</span><a href=\"file://c:\\Users\\a829727\\AppData\\Local\\anaconda3\\envs\\semester_5\\lib\\site-packages\\manim\\scene\\scene_file_writer.py#735\" target=\"_blank\"><span style=\"color: #7f7f7f; text-decoration-color: #7f7f7f\">735</span></a>\n",
       "<span style=\"color: #7fbfbf; text-decoration-color: #7fbfbf\">                    </span>         <span style=\"color: #808000; text-decoration-color: #808000; font-weight: bold\">File</span> ready at <span style=\"color: #008000; text-decoration-color: #008000\">'C:\\Users\\a829727\\OneDrive - </span>                   <span style=\"color: #7f7f7f; text-decoration-color: #7f7f7f\">                        </span>\n",
       "<span style=\"color: #7fbfbf; text-decoration-color: #7fbfbf\">                    </span>         <span style=\"color: #008000; text-decoration-color: #008000\">Atos\\Dokumente\\Uni\\Semester </span>                                  <span style=\"color: #7f7f7f; text-decoration-color: #7f7f7f\">                        </span>\n",
       "<span style=\"color: #7fbfbf; text-decoration-color: #7fbfbf\">                    </span>         <span style=\"color: #008000; text-decoration-color: #008000\">5\\Integrationsseminar\\Graph-Cuts-Animation\\media\\videos\\Graph</span> <span style=\"color: #7f7f7f; text-decoration-color: #7f7f7f\">                        </span>\n",
       "<span style=\"color: #7fbfbf; text-decoration-color: #7fbfbf\">                    </span>         <span style=\"color: #008000; text-decoration-color: #008000\">-Cuts-Animation\\480p15\\pre_Scene_4.mp4'</span>                       <span style=\"color: #7f7f7f; text-decoration-color: #7f7f7f\">                        </span>\n",
       "<span style=\"color: #7fbfbf; text-decoration-color: #7fbfbf\">                    </span>                                                                       <span style=\"color: #7f7f7f; text-decoration-color: #7f7f7f\">                        </span>\n",
       "</pre>\n"
      ],
      "text/plain": [
       "\u001b[2;36m[02/07/24 15:14:31]\u001b[0m\u001b[2;36m \u001b[0m\u001b[32mINFO    \u001b[0m                                                               \u001b]8;id=253794;file://c:\\Users\\a829727\\AppData\\Local\\anaconda3\\envs\\semester_5\\lib\\site-packages\\manim\\scene\\scene_file_writer.py\u001b\\\u001b[2mscene_file_writer.py\u001b[0m\u001b]8;;\u001b\\\u001b[2m:\u001b[0m\u001b]8;id=255478;file://c:\\Users\\a829727\\AppData\\Local\\anaconda3\\envs\\semester_5\\lib\\site-packages\\manim\\scene\\scene_file_writer.py#735\u001b\\\u001b[2m735\u001b[0m\u001b]8;;\u001b\\\n",
       "\u001b[2;36m                    \u001b[0m         \u001b[1;33mFile\u001b[0m ready at \u001b[32m'C:\\Users\\a829727\\OneDrive - \u001b[0m                   \u001b[2m                        \u001b[0m\n",
       "\u001b[2;36m                    \u001b[0m         \u001b[32mAtos\\Dokumente\\Uni\\Semester \u001b[0m                                  \u001b[2m                        \u001b[0m\n",
       "\u001b[2;36m                    \u001b[0m         \u001b[32m5\\Integrationsseminar\\Graph-Cuts-Animation\\media\\videos\\Graph\u001b[0m \u001b[2m                        \u001b[0m\n",
       "\u001b[2;36m                    \u001b[0m         \u001b[32m-Cuts-Animation\\480p15\\pre_Scene_4.mp4'\u001b[0m                       \u001b[2m                        \u001b[0m\n",
       "\u001b[2;36m                    \u001b[0m                                                                       \u001b[2m                        \u001b[0m\n"
      ]
     },
     "metadata": {},
     "output_type": "display_data"
    },
    {
     "data": {
      "text/html": [
       "<pre style=\"white-space:pre;overflow-x:auto;line-height:normal;font-family:Menlo,'DejaVu Sans Mono',consolas,'Courier New',monospace\"><span style=\"color: #7fbfbf; text-decoration-color: #7fbfbf\">                    </span><span style=\"color: #008000; text-decoration-color: #008000\">INFO    </span> <span style=\"color: #808000; text-decoration-color: #808000; font-weight: bold\">Rendered</span> pre_Scene_4                                                      <a href=\"file://c:\\Users\\a829727\\AppData\\Local\\anaconda3\\envs\\semester_5\\lib\\site-packages\\manim\\scene\\scene.py\" target=\"_blank\"><span style=\"color: #7f7f7f; text-decoration-color: #7f7f7f\">scene.py</span></a><span style=\"color: #7f7f7f; text-decoration-color: #7f7f7f\">:</span><a href=\"file://c:\\Users\\a829727\\AppData\\Local\\anaconda3\\envs\\semester_5\\lib\\site-packages\\manim\\scene\\scene.py#241\" target=\"_blank\"><span style=\"color: #7f7f7f; text-decoration-color: #7f7f7f\">241</span></a>\n",
       "<span style=\"color: #7fbfbf; text-decoration-color: #7fbfbf\">                    </span>         <span style=\"color: #808000; text-decoration-color: #808000; font-weight: bold\">Played</span> <span style=\"color: #008000; text-decoration-color: #008000\">4</span> <span style=\"color: #808000; text-decoration-color: #808000; font-weight: bold\">animations</span>                                                       <span style=\"color: #7f7f7f; text-decoration-color: #7f7f7f\">            </span>\n",
       "</pre>\n"
      ],
      "text/plain": [
       "\u001b[2;36m                   \u001b[0m\u001b[2;36m \u001b[0m\u001b[32mINFO    \u001b[0m \u001b[1;33mRendered\u001b[0m pre_Scene_4                                                      \u001b]8;id=579494;file://c:\\Users\\a829727\\AppData\\Local\\anaconda3\\envs\\semester_5\\lib\\site-packages\\manim\\scene\\scene.py\u001b\\\u001b[2mscene.py\u001b[0m\u001b]8;;\u001b\\\u001b[2m:\u001b[0m\u001b]8;id=727695;file://c:\\Users\\a829727\\AppData\\Local\\anaconda3\\envs\\semester_5\\lib\\site-packages\\manim\\scene\\scene.py#241\u001b\\\u001b[2m241\u001b[0m\u001b]8;;\u001b\\\n",
       "\u001b[2;36m                    \u001b[0m         \u001b[1;33mPlayed\u001b[0m \u001b[32m4\u001b[0m \u001b[1;33manimations\u001b[0m                                                       \u001b[2m            \u001b[0m\n"
      ]
     },
     "metadata": {},
     "output_type": "display_data"
    },
    {
     "data": {
      "text/html": [
       "<pre style=\"white-space:pre;overflow-x:auto;line-height:normal;font-family:Menlo,'DejaVu Sans Mono',consolas,'Courier New',monospace\"><span style=\"color: #7fbfbf; text-decoration-color: #7fbfbf\">[02/07/24 15:14:33] </span><span style=\"color: #008000; text-decoration-color: #008000\">INFO    </span> Previewed <span style=\"color: #808000; text-decoration-color: #808000; font-weight: bold\">File</span> at: <span style=\"color: #008000; text-decoration-color: #008000\">'C:\\Users\\a829727\\OneDrive - </span>                       <a href=\"file://c:\\Users\\a829727\\AppData\\Local\\anaconda3\\envs\\semester_5\\lib\\site-packages\\manim\\utils\\file_ops.py\" target=\"_blank\"><span style=\"color: #7f7f7f; text-decoration-color: #7f7f7f\">file_ops.py</span></a><span style=\"color: #7f7f7f; text-decoration-color: #7f7f7f\">:</span><a href=\"file://c:\\Users\\a829727\\AppData\\Local\\anaconda3\\envs\\semester_5\\lib\\site-packages\\manim\\utils\\file_ops.py#227\" target=\"_blank\"><span style=\"color: #7f7f7f; text-decoration-color: #7f7f7f\">227</span></a>\n",
       "<span style=\"color: #7fbfbf; text-decoration-color: #7fbfbf\">                    </span>         <span style=\"color: #008000; text-decoration-color: #008000\">Atos\\Dokumente\\Uni\\Semester </span>                                           <span style=\"color: #7f7f7f; text-decoration-color: #7f7f7f\">               </span>\n",
       "<span style=\"color: #7fbfbf; text-decoration-color: #7fbfbf\">                    </span>         <span style=\"color: #008000; text-decoration-color: #008000\">5\\Integrationsseminar\\Graph-Cuts-Animation\\media\\videos\\Graph-Cuts-Ani</span> <span style=\"color: #7f7f7f; text-decoration-color: #7f7f7f\">               </span>\n",
       "<span style=\"color: #7fbfbf; text-decoration-color: #7fbfbf\">                    </span>         <span style=\"color: #008000; text-decoration-color: #008000\">mation\\480p15\\pre_Scene_4.mp4'</span>                                         <span style=\"color: #7f7f7f; text-decoration-color: #7f7f7f\">               </span>\n",
       "</pre>\n"
      ],
      "text/plain": [
       "\u001b[2;36m[02/07/24 15:14:33]\u001b[0m\u001b[2;36m \u001b[0m\u001b[32mINFO    \u001b[0m Previewed \u001b[1;33mFile\u001b[0m at: \u001b[32m'C:\\Users\\a829727\\OneDrive - \u001b[0m                       \u001b]8;id=790202;file://c:\\Users\\a829727\\AppData\\Local\\anaconda3\\envs\\semester_5\\lib\\site-packages\\manim\\utils\\file_ops.py\u001b\\\u001b[2mfile_ops.py\u001b[0m\u001b]8;;\u001b\\\u001b[2m:\u001b[0m\u001b]8;id=131929;file://c:\\Users\\a829727\\AppData\\Local\\anaconda3\\envs\\semester_5\\lib\\site-packages\\manim\\utils\\file_ops.py#227\u001b\\\u001b[2m227\u001b[0m\u001b]8;;\u001b\\\n",
       "\u001b[2;36m                    \u001b[0m         \u001b[32mAtos\\Dokumente\\Uni\\Semester \u001b[0m                                           \u001b[2m               \u001b[0m\n",
       "\u001b[2;36m                    \u001b[0m         \u001b[32m5\\Integrationsseminar\\Graph-Cuts-Animation\\media\\videos\\Graph-Cuts-Ani\u001b[0m \u001b[2m               \u001b[0m\n",
       "\u001b[2;36m                    \u001b[0m         \u001b[32mmation\\480p15\\pre_Scene_4.mp4'\u001b[0m                                         \u001b[2m               \u001b[0m\n"
      ]
     },
     "metadata": {},
     "output_type": "display_data"
    },
    {
     "data": {
      "text/html": [
       "<video src=\"media\\jupyter\\pre_Scene_4@2024-02-07@15-14-33.mp4\" controls autoplay loop style=\"max-width: 60%;\"  >\n",
       "      Your browser does not support the <code>video</code> element.\n",
       "    </video>"
      ],
      "text/plain": [
       "<IPython.core.display.Video object>"
      ]
     },
     "metadata": {},
     "output_type": "display_data"
    }
   ],
   "source": [
    "%manim -pql pre_Scene_4"
   ]
  },
  {
   "cell_type": "code",
   "execution_count": 5,
   "metadata": {},
   "outputs": [],
   "source": [
    "# Liste der Knoten\n",
    "vertices = [1, 2, 3, 4, 5, 6, 7, 8, 9]\n",
    "\n",
    "# Erstelle Kanten zwischen benachbarten Knoten\n",
    "edges = [(i, i + 1) for i in range(1, 9) if not i % 3 == 0] + [(j, j + 3) for j in range(1, 7)] + [(k, k + 4) for k in [1, 2, 4, 5]] + [(l, l + 2) for l in [2, 3, 5, 6]]\n",
    "\n",
    "# Gruppen von Knoten mit derselben Farbe\n",
    "group1_nodes = [1, 2, 4]\n",
    "group2_nodes = [3, 5, 6, 7, 8, 9]\n",
    "\n",
    "# Farben für die Gruppen festlegen\n",
    "group1_color = '#318ab3'\n",
    "group2_color = '#68228B'\n",
    "\n",
    "# Erstelle den Graphen mit manueller Positionierung und Farbkonfiguration\n",
    "layout = {\n",
    "    1: np.array([-1, 1, 0]),\n",
    "    2: np.array([0, 1, 0]),\n",
    "    3: np.array([1, 1, 0]),\n",
    "    4: np.array([-1, 0, 0]),\n",
    "    5: np.array([0, 0, 0]),\n",
    "    6: np.array([1, 0, 0]),\n",
    "    7: np.array([-1, -1, 0]),\n",
    "    8: np.array([0, -1, 0]),\n",
    "    9: np.array([1, -1, 0]),\n",
    "}\n",
    "\n",
    "vertex_config = {\n",
    "    node: {\"fill_color\": group1_color} if node in group1_nodes else {\"fill_color\": group2_color}\n",
    "    for node in vertices\n",
    "}\n",
    "\n",
    "edge_config = {\n",
    "    edge: {\"stroke_color\": \"#666666\"}\n",
    "    for edge in edges\n",
    "}\n",
    "# Es wird ein neuer Graph erstellt, an dem veranschaulicht wird\n",
    "updated_edge_config = {\n",
    "    edge: {\"stroke_color\": \"#FFFFFF\"}\n",
    "    for edge in edges\n",
    "}\n",
    "# Kanten der verschiedenen Gruppen (Verbindungen zwischen gleich- und andersfarbigen Knoten)\n",
    "new_edges = [(i, i + 1) for i in range(1, 9) if not i % 3 == 0] + [(j, j + 3) for j in range(1, 7)]\n",
    "new_edges_group1 = [(1, 2), (1, 4)]\n",
    "new_edges_group2 = [(2, 3), (2, 5), (4, 5), (4, 7)]\n",
    "new_edges_group3 = [(3, 6), (5, 6), (5, 8), (7, 8), (6, 9), (8, 9)]\n",
    "\n",
    "g = Graph(vertices, edges, layout=layout, vertex_config=vertex_config, edge_config=edge_config)\n",
    "new_g = Graph(vertices, new_edges, layout=layout, vertex_config=vertex_config, edge_config=updated_edge_config)\n",
    "\n",
    "# Skaliere den Graphen\n",
    "g.scale(2.5)\n",
    "new_g.scale(2.5)\n",
    "\n",
    "\n",
    "def create_label(number, radius, label_color= WHITE):\n",
    "    \"\"\"\n",
    "    Diese Funktion erstellt ein Label, bestehend aus einem weißen Kreis und einer schwarzen Zahl.\n",
    "    \n",
    "    Parameter:\n",
    "    - number: Die Zahl, die im Label angezeigt werden soll.\n",
    "    - radius: Der Radius des weißen Kreises im Label.\n",
    "    \n",
    "    Rückgabewert:\n",
    "    Eine VGroup, die den weißen Kreis und die schwarze Zahl enthält, um ein Label darzustellen.\n",
    "    \"\"\"\n",
    "    white_circle = Circle(color=label_color, fill_opacity=1, radius=radius)\n",
    "    black_number = MathTex(str(number), color=BLACK).scale(0.65)\n",
    "    label = VGroup(white_circle, black_number)\n",
    "    return label\n",
    "\n",
    "class Scene_4(Scene):\n",
    "    def construct(self):\n",
    "        self.add(g)\n",
    "\n",
    "        # Zentriere den Graphen in der Szene\n",
    "        g.move_to(ORIGIN)\n",
    "\n",
    "        self.wait(2)\n",
    "        self.play(FadeTransform(g, new_g))\n",
    "        self.add(new_g)\n",
    "\n",
    "        # Füge Labels zu den Kanten hinzu\n",
    "        edge_labels = {}\n",
    "        for edge, edge_obj in new_g.edges.items():\n",
    "            if edge in new_edges_group1 or edge in new_edges_group3:     \n",
    "                label = create_label(\"1\", 0.2)\n",
    "            else:\n",
    "                label = create_label(\"0.6\", 0.2)\n",
    "\n",
    "            label.next_to(edge_obj.get_center(), buff=-0.2)\n",
    "            edge_labels[edge] = label\n",
    "\n",
    "        for edge_label in edge_labels.values():\n",
    "            edge_label.original_position = edge_label.get_center()\n",
    "\n",
    "        # Füge Labels zur Szene hinzu\n",
    "        self.play(*[Create(label) for label in edge_labels.values()], run_time=2)\n",
    "        self.wait(2)\n",
    "\n",
    "        # Füge Überschrift hinzu\n",
    "        text01 = Text(\"Graph Cuts Algorithm\", color=WHITE).to_edge(UP).scale(0.8)\n",
    "        self.play(Write(text01), run_time=2,)\n",
    "\n",
    "        # Füge Scheren-Icon hinzu\n",
    "        schere_icon = ImageMobject(\"Bilder\\schere-icon.png\").move_to(LEFT *4 + DOWN *1.2).scale(0.25)\n",
    "        tom = ImageMobject(\"../Bilder/Einstieg/Happy.png\")\n",
    "        \n",
    "        # Skaliere das Bild nach Bedarf\n",
    "        tom.scale(0.5) # Passt die Größe des Bildes an\n",
    "        \n",
    "        \n",
    "        # Positioniere die Figur außerhalb des sichtbaren Bereichs (rechts unten)\n",
    "        \n",
    "        tom.move_to(DOWN+RIGHT*9).rotate(0.9)\n",
    "        \n",
    "        # Bewege die Figur leicht nach links gedreht ins Bild\n",
    "        self.play(tom.animate.move_to(DOWN+RIGHT*7))\n",
    "\n",
    "        self.add(schere_icon)\n",
    "        self.wait(2)\n",
    "\n",
    "        # Füge die gestrichelte Linie zur Szene hinzu\n",
    "        dashed_line = DashedLine(start=LEFT *4 + DOWN *1.2, end=RIGHT *4 + DOWN *1.2, color=WHITE)\n",
    "        self.play(Create(dashed_line), run_time = 2)\n",
    "        self.play(FadeOut(dashed_line),tom.animate.move_to(DOWN+RIGHT*9))\n",
    "        self.wait(2)\n",
    "\n",
    "        # Definiere alle Kanten für den ersten (Beispiel-)Cut\n",
    "        edges_first_cut = [(4, 7), (5, 8), (6, 9)]\n",
    "\n",
    "        # Schneide Kanten weg\n",
    "        for element in edges_first_cut:\n",
    "            disappearing_edge = new_g.edges[element]\n",
    "            self.play(FadeOut(disappearing_edge), run_time = 0.5)\n",
    "        self.play(FadeOut(schere_icon))\n",
    "\n",
    "        # Schiebe verbliebene Labels zur Seite\n",
    "        sum_labels_first_cut = VGroup()\n",
    "        helper = 0\n",
    "        for element_label in edges_first_cut:\n",
    "            shifting_label = edge_labels[element_label]\n",
    "            self.play(shifting_label.animate.move_to([4 + helper*0.75, 2.5, 0]), run_time=1)\n",
    "            helper += 1\n",
    "            sum_labels_first_cut.add(shifting_label)\n",
    "\n",
    "        self.wait(1)\n",
    "\n",
    "        # Erstelle Label für Summe\n",
    "        new_label1 = create_label(\"2.6\", 0.25).move_to([4.75, 1.5, 0])\n",
    "\n",
    "        # Transformiere die VGroup also Kopie in ein einzelnes Label (Summe)\n",
    "        self.play(TransformFromCopy(sum_labels_first_cut, new_label1))\n",
    "\n",
    "        self.wait(1)\n",
    "\n",
    "        # Wiederherstellen der weggeschnittenen Kanten\n",
    "        for element in edges_first_cut:\n",
    "            disappearing_edge = new_g.edges[element]\n",
    "            self.play(FadeIn(disappearing_edge), run_time = 0.5)\n",
    "\n",
    "        self.wait(1)\n",
    "\n",
    "        # Zurückschieben der verschobenen Label\n",
    "        for element_label in edges_first_cut:\n",
    "            shifting_label = edge_labels[element_label]\n",
    "            self.play(shifting_label.animate.move_to(shifting_label.original_position), run_time=1)\n",
    "             \n",
    "        self.wait(2)\n",
    "        self.add(schere_icon.shift(DOWN * 1.3))\n",
    "        self.play(schere_icon.animate.rotate(45 * DEGREES))\n",
    "\n",
    "        self.wait(1)\n",
    "\n",
    "        # Füge die gestrichelte Linie zur Szene hinzu\n",
    "        dashed_line = DashedLine(start=LEFT *4 + DOWN *2.5, end=RIGHT *1.75 + UP *2.8, color=WHITE)\n",
    "        self.play(Create(dashed_line), run_time = 2)\n",
    "        self.wait(1)\n",
    "        self.play(FadeOut(dashed_line))\n",
    "        self.wait(2)\n",
    "\n",
    "        # Definiere alle Kanten für den zweiten (Beispiel-)Cut\n",
    "        edges_second_cut = [(4, 7), (4, 5), (2, 5), (2, 3)]\n",
    "\n",
    "        # Schneide Kanten weg\n",
    "        for element in edges_second_cut:\n",
    "            disappearing_edge = new_g.edges[element]\n",
    "            self.play(FadeOut(disappearing_edge), run_time = 0.3)\n",
    "        self.play(FadeOut(schere_icon))\n",
    "        self.wait(2)\n",
    "\n",
    "        # Schiebe verbliebene Labels zur Seite\n",
    "        sum_labels_second_cut = VGroup()\n",
    "        helper = 0\n",
    "        for element_label in edges_second_cut:\n",
    "            shifting_label = edge_labels[element_label]\n",
    "            self.play(shifting_label.animate.move_to([3.5 + helper*0.75, 2.5, 0]), run_time=0.6)\n",
    "            helper += 1\n",
    "            sum_labels_second_cut.add(shifting_label)\n",
    "        self.wait(1)\n",
    "\n",
    "        # Erstelle Label für Summe\n",
    "        new_label2 = create_label(\"2.4\", 0.25).move_to([5.5, 1.5, 0])\n",
    "\n",
    "        # Transformiere die VGroup also Kopie in ein einzelnes Label (Summe)\n",
    "        self.play(new_label1.animate.shift(LEFT * 1))\n",
    "        self.play(TransformFromCopy(sum_labels_second_cut, new_label2))\n",
    "        self.wait(1)\n",
    "\n",
    "        groesser_zeichen = MathTex(r\"\\mathbf{>}\").move_to([4.55, 1.5, 0])\n",
    "        self.play(Create(groesser_zeichen))\n",
    "        self.wait(1)\n",
    "        formula_cuts = MathTex(r\"\\mathbf{Formula\\ for\\ a\\ cut's\\ cost:} \\\\ \\text{cut}(A, B) = \\sum_{p \\in A, q \\in B}w_{pq}\"\n",
    "                              ).move_to([-5, 1.5, 0]).scale(0.55)\n",
    "        self.play(Create(formula_cuts))\n",
    "        self.wait(2)\n",
    "\n",
    "        # Wiederherstellen der weggeschnittenen Kanten\n",
    "        for element in edges_second_cut:\n",
    "            disappearing_edge = new_g.edges[element]\n",
    "            self.play(FadeIn(disappearing_edge), run_time = 0.5)\n",
    "\n",
    "        self.wait(1)\n",
    "\n",
    "        # Zurückschieben der verschobenen Label\n",
    "        for element_label in edges_second_cut:\n",
    "            shifting_label = edge_labels[element_label]\n",
    "            self.play(shifting_label.animate.move_to(shifting_label.original_position), run_time=0.6)\n",
    "        \n",
    "        self.wait(1)\n",
    "\n",
    "        # Füge Warning-Icon hinzu\n",
    "        warning_icon = ImageMobject(\"Bilder\\warning-icon.png\").move_to([-5, -1.5, 0]).scale(0.8)\n",
    "        self.add(warning_icon)\n",
    "        self.play(FadeOut(warning_icon))\n",
    "        self.add(warning_icon)\n",
    "        self.play(FadeOut(warning_icon))\n",
    "        self.add(warning_icon)\n",
    "        self.play(FadeOut(warning_icon))\n",
    "        self.wait(2)\n",
    "        \n",
    "        # Umkreise Ecke des Graphen, um auf Problem des Algorithmus hinzuweisen\n",
    "        roter_kreis = Circle(radius=1.2, stroke_color=RED).move_to([-2, -2, 0])\n",
    "        self.play(Create(roter_kreis))\n",
    "        self.wait(1)\n",
    "        self.play(FadeOut(roter_kreis))\n",
    "\n",
    "        self.wait(2)\n",
    "\n",
    "        # Definiere alle Kanten für den dritten (Beispiel-)Cut\n",
    "        edges_third_cut = [(4, 7), (7, 8)]\n",
    "    \n",
    "        # Schneide Kanten weg\n",
    "        for element in edges_third_cut:\n",
    "            disappearing_edge = new_g.edges[element]\n",
    "            self.play(FadeOut(disappearing_edge), run_time = 0.3)\n",
    "        self.wait(2)\n",
    "\n",
    "        # Schiebe verbliebene Labels zur Seite\n",
    "        sum_labels_third_cut = VGroup()\n",
    "        helper = 0\n",
    "        for element_label in edges_third_cut:\n",
    "            shifting_label = edge_labels[element_label]\n",
    "            self.play(shifting_label.animate.move_to([4.2 + helper*0.8, 0.5, 0]), run_time=0.6)\n",
    "            helper += 1\n",
    "            sum_labels_third_cut.add(shifting_label)\n",
    "        self.wait(1)\n",
    "\n",
    "        # Erstelle Label für Summe\n",
    "        new_label3 = create_label(\"1.6\", 0.25, GREEN).move_to([4.6, 2.3, 0])\n",
    "\n",
    "        # Transformiere die VGroup also Kopie in ein einzelnes Label (Summe)\n",
    "        self.play(TransformFromCopy(sum_labels_third_cut, new_label3))\n",
    "        self.wait(2)\n"
   ]
  },
  {
   "cell_type": "code",
   "execution_count": 6,
   "metadata": {},
   "outputs": [
    {
     "data": {
      "text/html": [
       "<pre style=\"white-space:pre;overflow-x:auto;line-height:normal;font-family:Menlo,'DejaVu Sans Mono',consolas,'Courier New',monospace\"><span style=\"color: #7fbfbf; text-decoration-color: #7fbfbf\">[02/07/24 15:14:35] </span><span style=\"color: #008000; text-decoration-color: #008000\">INFO    </span> Animation <span style=\"color: #008000; text-decoration-color: #008000\">0</span> : Partial movie file written in                   <a href=\"file://c:\\Users\\a829727\\AppData\\Local\\anaconda3\\envs\\semester_5\\lib\\site-packages\\manim\\scene\\scene_file_writer.py\" target=\"_blank\"><span style=\"color: #7f7f7f; text-decoration-color: #7f7f7f\">scene_file_writer.py</span></a><span style=\"color: #7f7f7f; text-decoration-color: #7f7f7f\">:</span><a href=\"file://c:\\Users\\a829727\\AppData\\Local\\anaconda3\\envs\\semester_5\\lib\\site-packages\\manim\\scene\\scene_file_writer.py#527\" target=\"_blank\"><span style=\"color: #7f7f7f; text-decoration-color: #7f7f7f\">527</span></a>\n",
       "<span style=\"color: #7fbfbf; text-decoration-color: #7fbfbf\">                    </span>         <span style=\"color: #008000; text-decoration-color: #008000\">'C:\\Users\\a829727\\OneDrive - Atos\\Dokumente\\Uni\\Semester </span>     <span style=\"color: #7f7f7f; text-decoration-color: #7f7f7f\">                        </span>\n",
       "<span style=\"color: #7fbfbf; text-decoration-color: #7fbfbf\">                    </span>         <span style=\"color: #008000; text-decoration-color: #008000\">5\\Integrationsseminar\\Graph-Cuts-Animation\\media\\videos\\Graph</span> <span style=\"color: #7f7f7f; text-decoration-color: #7f7f7f\">                        </span>\n",
       "<span style=\"color: #7fbfbf; text-decoration-color: #7fbfbf\">                    </span>         <span style=\"color: #008000; text-decoration-color: #008000\">-Cuts-Animation\\480p15\\partial_movie_files\\Scene_4\\1185818338</span> <span style=\"color: #7f7f7f; text-decoration-color: #7f7f7f\">                        </span>\n",
       "<span style=\"color: #7fbfbf; text-decoration-color: #7fbfbf\">                    </span>         <span style=\"color: #008000; text-decoration-color: #008000\">_634017564_2781370119.mp4'</span>                                    <span style=\"color: #7f7f7f; text-decoration-color: #7f7f7f\">                        </span>\n",
       "</pre>\n"
      ],
      "text/plain": [
       "\u001b[2;36m[02/07/24 15:14:35]\u001b[0m\u001b[2;36m \u001b[0m\u001b[32mINFO    \u001b[0m Animation \u001b[32m0\u001b[0m : Partial movie file written in                   \u001b]8;id=144792;file://c:\\Users\\a829727\\AppData\\Local\\anaconda3\\envs\\semester_5\\lib\\site-packages\\manim\\scene\\scene_file_writer.py\u001b\\\u001b[2mscene_file_writer.py\u001b[0m\u001b]8;;\u001b\\\u001b[2m:\u001b[0m\u001b]8;id=881277;file://c:\\Users\\a829727\\AppData\\Local\\anaconda3\\envs\\semester_5\\lib\\site-packages\\manim\\scene\\scene_file_writer.py#527\u001b\\\u001b[2m527\u001b[0m\u001b]8;;\u001b\\\n",
       "\u001b[2;36m                    \u001b[0m         \u001b[32m'C:\\Users\\a829727\\OneDrive - Atos\\Dokumente\\Uni\\Semester \u001b[0m     \u001b[2m                        \u001b[0m\n",
       "\u001b[2;36m                    \u001b[0m         \u001b[32m5\\Integrationsseminar\\Graph-Cuts-Animation\\media\\videos\\Graph\u001b[0m \u001b[2m                        \u001b[0m\n",
       "\u001b[2;36m                    \u001b[0m         \u001b[32m-Cuts-Animation\\480p15\\partial_movie_files\\Scene_4\\1185818338\u001b[0m \u001b[2m                        \u001b[0m\n",
       "\u001b[2;36m                    \u001b[0m         \u001b[32m_634017564_2781370119.mp4'\u001b[0m                                    \u001b[2m                        \u001b[0m\n"
      ]
     },
     "metadata": {},
     "output_type": "display_data"
    },
    {
     "name": "stderr",
     "output_type": "stream",
     "text": [
      "                                                                                  \r"
     ]
    },
    {
     "data": {
      "text/html": [
       "<pre style=\"white-space:pre;overflow-x:auto;line-height:normal;font-family:Menlo,'DejaVu Sans Mono',consolas,'Courier New',monospace\"><span style=\"color: #7fbfbf; text-decoration-color: #7fbfbf\">[02/07/24 15:14:37] </span><span style=\"color: #008000; text-decoration-color: #008000\">INFO    </span> Animation <span style=\"color: #008000; text-decoration-color: #008000\">1</span> : Partial movie file written in                   <a href=\"file://c:\\Users\\a829727\\AppData\\Local\\anaconda3\\envs\\semester_5\\lib\\site-packages\\manim\\scene\\scene_file_writer.py\" target=\"_blank\"><span style=\"color: #7f7f7f; text-decoration-color: #7f7f7f\">scene_file_writer.py</span></a><span style=\"color: #7f7f7f; text-decoration-color: #7f7f7f\">:</span><a href=\"file://c:\\Users\\a829727\\AppData\\Local\\anaconda3\\envs\\semester_5\\lib\\site-packages\\manim\\scene\\scene_file_writer.py#527\" target=\"_blank\"><span style=\"color: #7f7f7f; text-decoration-color: #7f7f7f\">527</span></a>\n",
       "<span style=\"color: #7fbfbf; text-decoration-color: #7fbfbf\">                    </span>         <span style=\"color: #008000; text-decoration-color: #008000\">'C:\\Users\\a829727\\OneDrive - Atos\\Dokumente\\Uni\\Semester </span>     <span style=\"color: #7f7f7f; text-decoration-color: #7f7f7f\">                        </span>\n",
       "<span style=\"color: #7fbfbf; text-decoration-color: #7fbfbf\">                    </span>         <span style=\"color: #008000; text-decoration-color: #008000\">5\\Integrationsseminar\\Graph-Cuts-Animation\\media\\videos\\Graph</span> <span style=\"color: #7f7f7f; text-decoration-color: #7f7f7f\">                        </span>\n",
       "<span style=\"color: #7fbfbf; text-decoration-color: #7fbfbf\">                    </span>         <span style=\"color: #008000; text-decoration-color: #008000\">-Cuts-Animation\\480p15\\partial_movie_files\\Scene_4\\624642324_</span> <span style=\"color: #7f7f7f; text-decoration-color: #7f7f7f\">                        </span>\n",
       "<span style=\"color: #7fbfbf; text-decoration-color: #7fbfbf\">                    </span>         <span style=\"color: #008000; text-decoration-color: #008000\">3856401310_4227516557.mp4'</span>                                    <span style=\"color: #7f7f7f; text-decoration-color: #7f7f7f\">                        </span>\n",
       "</pre>\n"
      ],
      "text/plain": [
       "\u001b[2;36m[02/07/24 15:14:37]\u001b[0m\u001b[2;36m \u001b[0m\u001b[32mINFO    \u001b[0m Animation \u001b[32m1\u001b[0m : Partial movie file written in                   \u001b]8;id=743504;file://c:\\Users\\a829727\\AppData\\Local\\anaconda3\\envs\\semester_5\\lib\\site-packages\\manim\\scene\\scene_file_writer.py\u001b\\\u001b[2mscene_file_writer.py\u001b[0m\u001b]8;;\u001b\\\u001b[2m:\u001b[0m\u001b]8;id=749168;file://c:\\Users\\a829727\\AppData\\Local\\anaconda3\\envs\\semester_5\\lib\\site-packages\\manim\\scene\\scene_file_writer.py#527\u001b\\\u001b[2m527\u001b[0m\u001b]8;;\u001b\\\n",
       "\u001b[2;36m                    \u001b[0m         \u001b[32m'C:\\Users\\a829727\\OneDrive - Atos\\Dokumente\\Uni\\Semester \u001b[0m     \u001b[2m                        \u001b[0m\n",
       "\u001b[2;36m                    \u001b[0m         \u001b[32m5\\Integrationsseminar\\Graph-Cuts-Animation\\media\\videos\\Graph\u001b[0m \u001b[2m                        \u001b[0m\n",
       "\u001b[2;36m                    \u001b[0m         \u001b[32m-Cuts-Animation\\480p15\\partial_movie_files\\Scene_4\\624642324_\u001b[0m \u001b[2m                        \u001b[0m\n",
       "\u001b[2;36m                    \u001b[0m         \u001b[32m3856401310_4227516557.mp4'\u001b[0m                                    \u001b[2m                        \u001b[0m\n"
      ]
     },
     "metadata": {},
     "output_type": "display_data"
    },
    {
     "data": {
      "text/html": [
       "<pre style=\"white-space:pre;overflow-x:auto;line-height:normal;font-family:Menlo,'DejaVu Sans Mono',consolas,'Courier New',monospace\"><span style=\"color: #7fbfbf; text-decoration-color: #7fbfbf\">                    </span><span style=\"color: #008000; text-decoration-color: #008000\">INFO    </span> <span style=\"color: #808000; text-decoration-color: #808000; font-weight: bold\">Writing</span> <span style=\"color: #008000; text-decoration-color: #008000\">1</span> to media\\Tex\\3b7e741a76ee76a4.tex                    <a href=\"file://c:\\Users\\a829727\\AppData\\Local\\anaconda3\\envs\\semester_5\\lib\\site-packages\\manim\\utils\\tex_file_writing.py\" target=\"_blank\"><span style=\"color: #7f7f7f; text-decoration-color: #7f7f7f\">tex_file_writing.py</span></a><span style=\"color: #7f7f7f; text-decoration-color: #7f7f7f\">:</span><a href=\"file://c:\\Users\\a829727\\AppData\\Local\\anaconda3\\envs\\semester_5\\lib\\site-packages\\manim\\utils\\tex_file_writing.py#107\" target=\"_blank\"><span style=\"color: #7f7f7f; text-decoration-color: #7f7f7f\">107</span></a>\n",
       "</pre>\n"
      ],
      "text/plain": [
       "\u001b[2;36m                   \u001b[0m\u001b[2;36m \u001b[0m\u001b[32mINFO    \u001b[0m \u001b[1;33mWriting\u001b[0m \u001b[32m1\u001b[0m to media\\Tex\\3b7e741a76ee76a4.tex                    \u001b]8;id=236978;file://c:\\Users\\a829727\\AppData\\Local\\anaconda3\\envs\\semester_5\\lib\\site-packages\\manim\\utils\\tex_file_writing.py\u001b\\\u001b[2mtex_file_writing.py\u001b[0m\u001b]8;;\u001b\\\u001b[2m:\u001b[0m\u001b]8;id=831558;file://c:\\Users\\a829727\\AppData\\Local\\anaconda3\\envs\\semester_5\\lib\\site-packages\\manim\\utils\\tex_file_writing.py#107\u001b\\\u001b[2m107\u001b[0m\u001b]8;;\u001b\\\n"
      ]
     },
     "metadata": {},
     "output_type": "display_data"
    },
    {
     "ename": "RuntimeError",
     "evalue": "latex failed but did not produce a log file. Check your LaTeX installation.",
     "output_type": "error",
     "traceback": [
      "\u001b[1;31m---------------------------------------------------------------------------\u001b[0m",
      "\u001b[1;31mRuntimeError\u001b[0m                              Traceback (most recent call last)",
      "Cell \u001b[1;32mIn[6], line 1\u001b[0m\n\u001b[1;32m----> 1\u001b[0m \u001b[43mget_ipython\u001b[49m\u001b[43m(\u001b[49m\u001b[43m)\u001b[49m\u001b[38;5;241;43m.\u001b[39;49m\u001b[43mrun_line_magic\u001b[49m\u001b[43m(\u001b[49m\u001b[38;5;124;43m'\u001b[39;49m\u001b[38;5;124;43mmanim\u001b[39;49m\u001b[38;5;124;43m'\u001b[39;49m\u001b[43m,\u001b[49m\u001b[43m \u001b[49m\u001b[38;5;124;43m'\u001b[39;49m\u001b[38;5;124;43m-pql Scene_4\u001b[39;49m\u001b[38;5;124;43m'\u001b[39;49m\u001b[43m)\u001b[49m\n",
      "File \u001b[1;32mc:\\Users\\a829727\\AppData\\Local\\anaconda3\\envs\\semester_5\\lib\\site-packages\\IPython\\core\\interactiveshell.py:2456\u001b[0m, in \u001b[0;36mInteractiveShell.run_line_magic\u001b[1;34m(self, magic_name, line, _stack_depth)\u001b[0m\n\u001b[0;32m   2454\u001b[0m     kwargs[\u001b[38;5;124m'\u001b[39m\u001b[38;5;124mlocal_ns\u001b[39m\u001b[38;5;124m'\u001b[39m] \u001b[38;5;241m=\u001b[39m \u001b[38;5;28mself\u001b[39m\u001b[38;5;241m.\u001b[39mget_local_scope(stack_depth)\n\u001b[0;32m   2455\u001b[0m \u001b[38;5;28;01mwith\u001b[39;00m \u001b[38;5;28mself\u001b[39m\u001b[38;5;241m.\u001b[39mbuiltin_trap:\n\u001b[1;32m-> 2456\u001b[0m     result \u001b[38;5;241m=\u001b[39m fn(\u001b[38;5;241m*\u001b[39margs, \u001b[38;5;241m*\u001b[39m\u001b[38;5;241m*\u001b[39mkwargs)\n\u001b[0;32m   2458\u001b[0m \u001b[38;5;66;03m# The code below prevents the output from being displayed\u001b[39;00m\n\u001b[0;32m   2459\u001b[0m \u001b[38;5;66;03m# when using magics with decorator @output_can_be_silenced\u001b[39;00m\n\u001b[0;32m   2460\u001b[0m \u001b[38;5;66;03m# when the last Python token in the expression is a ';'.\u001b[39;00m\n\u001b[0;32m   2461\u001b[0m \u001b[38;5;28;01mif\u001b[39;00m \u001b[38;5;28mgetattr\u001b[39m(fn, magic\u001b[38;5;241m.\u001b[39mMAGIC_OUTPUT_CAN_BE_SILENCED, \u001b[38;5;28;01mFalse\u001b[39;00m):\n",
      "File \u001b[1;32mc:\\Users\\a829727\\AppData\\Local\\anaconda3\\envs\\semester_5\\lib\\site-packages\\manim\\utils\\ipython_magic.py:141\u001b[0m, in \u001b[0;36mManimMagic.manim\u001b[1;34m(self, line, cell, local_ns)\u001b[0m\n\u001b[0;32m    139\u001b[0m     SceneClass \u001b[38;5;241m=\u001b[39m local_ns[config[\u001b[38;5;124m\"\u001b[39m\u001b[38;5;124mscene_names\u001b[39m\u001b[38;5;124m\"\u001b[39m][\u001b[38;5;241m0\u001b[39m]]\n\u001b[0;32m    140\u001b[0m     scene \u001b[38;5;241m=\u001b[39m SceneClass(renderer\u001b[38;5;241m=\u001b[39mrenderer)\n\u001b[1;32m--> 141\u001b[0m     \u001b[43mscene\u001b[49m\u001b[38;5;241;43m.\u001b[39;49m\u001b[43mrender\u001b[49m\u001b[43m(\u001b[49m\u001b[43m)\u001b[49m\n\u001b[0;32m    142\u001b[0m \u001b[38;5;28;01mfinally\u001b[39;00m:\n\u001b[0;32m    143\u001b[0m     \u001b[38;5;66;03m# Shader cache becomes invalid as the context is destroyed\u001b[39;00m\n\u001b[0;32m    144\u001b[0m     shader_program_cache\u001b[38;5;241m.\u001b[39mclear()\n",
      "File \u001b[1;32mc:\\Users\\a829727\\AppData\\Local\\anaconda3\\envs\\semester_5\\lib\\site-packages\\manim\\scene\\scene.py:223\u001b[0m, in \u001b[0;36mScene.render\u001b[1;34m(self, preview)\u001b[0m\n\u001b[0;32m    221\u001b[0m \u001b[38;5;28mself\u001b[39m\u001b[38;5;241m.\u001b[39msetup()\n\u001b[0;32m    222\u001b[0m \u001b[38;5;28;01mtry\u001b[39;00m:\n\u001b[1;32m--> 223\u001b[0m     \u001b[38;5;28;43mself\u001b[39;49m\u001b[38;5;241;43m.\u001b[39;49m\u001b[43mconstruct\u001b[49m\u001b[43m(\u001b[49m\u001b[43m)\u001b[49m\n\u001b[0;32m    224\u001b[0m \u001b[38;5;28;01mexcept\u001b[39;00m EndSceneEarlyException:\n\u001b[0;32m    225\u001b[0m     \u001b[38;5;28;01mpass\u001b[39;00m\n",
      "Cell \u001b[1;32mIn[5], line 87\u001b[0m, in \u001b[0;36mScene_4.construct\u001b[1;34m(self)\u001b[0m\n\u001b[0;32m     85\u001b[0m \u001b[38;5;28;01mfor\u001b[39;00m edge, edge_obj \u001b[38;5;129;01min\u001b[39;00m new_g\u001b[38;5;241m.\u001b[39medges\u001b[38;5;241m.\u001b[39mitems():\n\u001b[0;32m     86\u001b[0m     \u001b[38;5;28;01mif\u001b[39;00m edge \u001b[38;5;129;01min\u001b[39;00m new_edges_group1 \u001b[38;5;129;01mor\u001b[39;00m edge \u001b[38;5;129;01min\u001b[39;00m new_edges_group3:     \n\u001b[1;32m---> 87\u001b[0m         label \u001b[38;5;241m=\u001b[39m \u001b[43mcreate_label\u001b[49m\u001b[43m(\u001b[49m\u001b[38;5;124;43m\"\u001b[39;49m\u001b[38;5;124;43m1\u001b[39;49m\u001b[38;5;124;43m\"\u001b[39;49m\u001b[43m,\u001b[49m\u001b[43m \u001b[49m\u001b[38;5;241;43m0.2\u001b[39;49m\u001b[43m)\u001b[49m\n\u001b[0;32m     88\u001b[0m     \u001b[38;5;28;01melse\u001b[39;00m:\n\u001b[0;32m     89\u001b[0m         label \u001b[38;5;241m=\u001b[39m create_label(\u001b[38;5;124m\"\u001b[39m\u001b[38;5;124m0.6\u001b[39m\u001b[38;5;124m\"\u001b[39m, \u001b[38;5;241m0.2\u001b[39m)\n",
      "Cell \u001b[1;32mIn[5], line 68\u001b[0m, in \u001b[0;36mcreate_label\u001b[1;34m(number, radius, label_color)\u001b[0m\n\u001b[0;32m     57\u001b[0m \u001b[38;5;250m\u001b[39m\u001b[38;5;124;03m\"\"\"\u001b[39;00m\n\u001b[0;32m     58\u001b[0m \u001b[38;5;124;03mDiese Funktion erstellt ein Label, bestehend aus einem weißen Kreis und einer schwarzen Zahl.\u001b[39;00m\n\u001b[0;32m     59\u001b[0m \u001b[38;5;124;03m\u001b[39;00m\n\u001b[1;32m   (...)\u001b[0m\n\u001b[0;32m     65\u001b[0m \u001b[38;5;124;03mEine VGroup, die den weißen Kreis und die schwarze Zahl enthält, um ein Label darzustellen.\u001b[39;00m\n\u001b[0;32m     66\u001b[0m \u001b[38;5;124;03m\"\"\"\u001b[39;00m\n\u001b[0;32m     67\u001b[0m white_circle \u001b[38;5;241m=\u001b[39m Circle(color\u001b[38;5;241m=\u001b[39mlabel_color, fill_opacity\u001b[38;5;241m=\u001b[39m\u001b[38;5;241m1\u001b[39m, radius\u001b[38;5;241m=\u001b[39mradius)\n\u001b[1;32m---> 68\u001b[0m black_number \u001b[38;5;241m=\u001b[39m \u001b[43mMathTex\u001b[49m\u001b[43m(\u001b[49m\u001b[38;5;28;43mstr\u001b[39;49m\u001b[43m(\u001b[49m\u001b[43mnumber\u001b[49m\u001b[43m)\u001b[49m\u001b[43m,\u001b[49m\u001b[43m \u001b[49m\u001b[43mcolor\u001b[49m\u001b[38;5;241;43m=\u001b[39;49m\u001b[43mBLACK\u001b[49m\u001b[43m)\u001b[49m\u001b[38;5;241m.\u001b[39mscale(\u001b[38;5;241m0.65\u001b[39m)\n\u001b[0;32m     69\u001b[0m label \u001b[38;5;241m=\u001b[39m VGroup(white_circle, black_number)\n\u001b[0;32m     70\u001b[0m \u001b[38;5;28;01mreturn\u001b[39;00m label\n",
      "File \u001b[1;32mc:\\Users\\a829727\\AppData\\Local\\anaconda3\\envs\\semester_5\\lib\\site-packages\\manim\\mobject\\text\\tex_mobject.py:272\u001b[0m, in \u001b[0;36mMathTex.__init__\u001b[1;34m(self, arg_separator, substrings_to_isolate, tex_to_color_map, tex_environment, *tex_strings, **kwargs)\u001b[0m\n\u001b[0;32m    270\u001b[0m \u001b[38;5;28mself\u001b[39m\u001b[38;5;241m.\u001b[39mtex_strings \u001b[38;5;241m=\u001b[39m \u001b[38;5;28mself\u001b[39m\u001b[38;5;241m.\u001b[39m_break_up_tex_strings(tex_strings)\n\u001b[0;32m    271\u001b[0m \u001b[38;5;28;01mtry\u001b[39;00m:\n\u001b[1;32m--> 272\u001b[0m     \u001b[38;5;28msuper\u001b[39m()\u001b[38;5;241m.\u001b[39m\u001b[38;5;21m__init__\u001b[39m(\n\u001b[0;32m    273\u001b[0m         \u001b[38;5;28mself\u001b[39m\u001b[38;5;241m.\u001b[39marg_separator\u001b[38;5;241m.\u001b[39mjoin(\u001b[38;5;28mself\u001b[39m\u001b[38;5;241m.\u001b[39mtex_strings),\n\u001b[0;32m    274\u001b[0m         tex_environment\u001b[38;5;241m=\u001b[39m\u001b[38;5;28mself\u001b[39m\u001b[38;5;241m.\u001b[39mtex_environment,\n\u001b[0;32m    275\u001b[0m         tex_template\u001b[38;5;241m=\u001b[39m\u001b[38;5;28mself\u001b[39m\u001b[38;5;241m.\u001b[39mtex_template,\n\u001b[0;32m    276\u001b[0m         \u001b[38;5;241m*\u001b[39m\u001b[38;5;241m*\u001b[39mkwargs,\n\u001b[0;32m    277\u001b[0m     )\n\u001b[0;32m    278\u001b[0m     \u001b[38;5;28mself\u001b[39m\u001b[38;5;241m.\u001b[39m_break_up_by_substrings()\n\u001b[0;32m    279\u001b[0m \u001b[38;5;28;01mexcept\u001b[39;00m \u001b[38;5;167;01mValueError\u001b[39;00m \u001b[38;5;28;01mas\u001b[39;00m compilation_error:\n",
      "File \u001b[1;32mc:\\Users\\a829727\\AppData\\Local\\anaconda3\\envs\\semester_5\\lib\\site-packages\\manim\\mobject\\text\\tex_mobject.py:81\u001b[0m, in \u001b[0;36mSingleStringMathTex.__init__\u001b[1;34m(self, tex_string, stroke_width, should_center, height, organize_left_to_right, tex_environment, tex_template, font_size, **kwargs)\u001b[0m\n\u001b[0;32m     79\u001b[0m \u001b[38;5;28;01massert\u001b[39;00m \u001b[38;5;28misinstance\u001b[39m(tex_string, \u001b[38;5;28mstr\u001b[39m)\n\u001b[0;32m     80\u001b[0m \u001b[38;5;28mself\u001b[39m\u001b[38;5;241m.\u001b[39mtex_string \u001b[38;5;241m=\u001b[39m tex_string\n\u001b[1;32m---> 81\u001b[0m file_name \u001b[38;5;241m=\u001b[39m \u001b[43mtex_to_svg_file\u001b[49m\u001b[43m(\u001b[49m\n\u001b[0;32m     82\u001b[0m \u001b[43m    \u001b[49m\u001b[38;5;28;43mself\u001b[39;49m\u001b[38;5;241;43m.\u001b[39;49m\u001b[43m_get_modified_expression\u001b[49m\u001b[43m(\u001b[49m\u001b[43mtex_string\u001b[49m\u001b[43m)\u001b[49m\u001b[43m,\u001b[49m\n\u001b[0;32m     83\u001b[0m \u001b[43m    \u001b[49m\u001b[43menvironment\u001b[49m\u001b[38;5;241;43m=\u001b[39;49m\u001b[38;5;28;43mself\u001b[39;49m\u001b[38;5;241;43m.\u001b[39;49m\u001b[43mtex_environment\u001b[49m\u001b[43m,\u001b[49m\n\u001b[0;32m     84\u001b[0m \u001b[43m    \u001b[49m\u001b[43mtex_template\u001b[49m\u001b[38;5;241;43m=\u001b[39;49m\u001b[38;5;28;43mself\u001b[39;49m\u001b[38;5;241;43m.\u001b[39;49m\u001b[43mtex_template\u001b[49m\u001b[43m,\u001b[49m\n\u001b[0;32m     85\u001b[0m \u001b[43m\u001b[49m\u001b[43m)\u001b[49m\n\u001b[0;32m     86\u001b[0m \u001b[38;5;28msuper\u001b[39m()\u001b[38;5;241m.\u001b[39m\u001b[38;5;21m__init__\u001b[39m(\n\u001b[0;32m     87\u001b[0m     file_name\u001b[38;5;241m=\u001b[39mfile_name,\n\u001b[0;32m     88\u001b[0m     should_center\u001b[38;5;241m=\u001b[39mshould_center,\n\u001b[1;32m   (...)\u001b[0m\n\u001b[0;32m     95\u001b[0m     \u001b[38;5;241m*\u001b[39m\u001b[38;5;241m*\u001b[39mkwargs,\n\u001b[0;32m     96\u001b[0m )\n\u001b[0;32m     97\u001b[0m \u001b[38;5;28mself\u001b[39m\u001b[38;5;241m.\u001b[39minit_colors()\n",
      "File \u001b[1;32mc:\\Users\\a829727\\AppData\\Local\\anaconda3\\envs\\semester_5\\lib\\site-packages\\manim\\utils\\tex_file_writing.py:61\u001b[0m, in \u001b[0;36mtex_to_svg_file\u001b[1;34m(expression, environment, tex_template)\u001b[0m\n\u001b[0;32m     58\u001b[0m \u001b[38;5;28;01mif\u001b[39;00m svg_file\u001b[38;5;241m.\u001b[39mexists():\n\u001b[0;32m     59\u001b[0m     \u001b[38;5;28;01mreturn\u001b[39;00m svg_file\n\u001b[1;32m---> 61\u001b[0m dvi_file \u001b[38;5;241m=\u001b[39m \u001b[43mcompile_tex\u001b[49m\u001b[43m(\u001b[49m\n\u001b[0;32m     62\u001b[0m \u001b[43m    \u001b[49m\u001b[43mtex_file\u001b[49m\u001b[43m,\u001b[49m\n\u001b[0;32m     63\u001b[0m \u001b[43m    \u001b[49m\u001b[43mtex_template\u001b[49m\u001b[38;5;241;43m.\u001b[39;49m\u001b[43mtex_compiler\u001b[49m\u001b[43m,\u001b[49m\n\u001b[0;32m     64\u001b[0m \u001b[43m    \u001b[49m\u001b[43mtex_template\u001b[49m\u001b[38;5;241;43m.\u001b[39;49m\u001b[43moutput_format\u001b[49m\u001b[43m,\u001b[49m\n\u001b[0;32m     65\u001b[0m \u001b[43m\u001b[49m\u001b[43m)\u001b[49m\n\u001b[0;32m     66\u001b[0m svg_file \u001b[38;5;241m=\u001b[39m convert_to_svg(dvi_file, tex_template\u001b[38;5;241m.\u001b[39moutput_format)\n\u001b[0;32m     67\u001b[0m \u001b[38;5;28;01mif\u001b[39;00m \u001b[38;5;129;01mnot\u001b[39;00m config[\u001b[38;5;124m\"\u001b[39m\u001b[38;5;124mno_latex_cleanup\u001b[39m\u001b[38;5;124m\"\u001b[39m]:\n",
      "File \u001b[1;32mc:\\Users\\a829727\\AppData\\Local\\anaconda3\\envs\\semester_5\\lib\\site-packages\\manim\\utils\\tex_file_writing.py:210\u001b[0m, in \u001b[0;36mcompile_tex\u001b[1;34m(tex_file, tex_compiler, output_format)\u001b[0m\n\u001b[0;32m    208\u001b[0m     \u001b[38;5;28;01mif\u001b[39;00m exit_code \u001b[38;5;241m!=\u001b[39m \u001b[38;5;241m0\u001b[39m:\n\u001b[0;32m    209\u001b[0m         log_file \u001b[38;5;241m=\u001b[39m tex_file\u001b[38;5;241m.\u001b[39mwith_suffix(\u001b[38;5;124m\"\u001b[39m\u001b[38;5;124m.log\u001b[39m\u001b[38;5;124m\"\u001b[39m)\n\u001b[1;32m--> 210\u001b[0m         \u001b[43mprint_all_tex_errors\u001b[49m\u001b[43m(\u001b[49m\u001b[43mlog_file\u001b[49m\u001b[43m,\u001b[49m\u001b[43m \u001b[49m\u001b[43mtex_compiler\u001b[49m\u001b[43m,\u001b[49m\u001b[43m \u001b[49m\u001b[43mtex_file\u001b[49m\u001b[43m)\u001b[49m\n\u001b[0;32m    211\u001b[0m         \u001b[38;5;28;01mraise\u001b[39;00m \u001b[38;5;167;01mValueError\u001b[39;00m(\n\u001b[0;32m    212\u001b[0m             \u001b[38;5;124mf\u001b[39m\u001b[38;5;124m\"\u001b[39m\u001b[38;5;132;01m{\u001b[39;00mtex_compiler\u001b[38;5;132;01m}\u001b[39;00m\u001b[38;5;124m error converting to\u001b[39m\u001b[38;5;124m\"\u001b[39m\n\u001b[0;32m    213\u001b[0m             \u001b[38;5;124mf\u001b[39m\u001b[38;5;124m\"\u001b[39m\u001b[38;5;124m \u001b[39m\u001b[38;5;132;01m{\u001b[39;00moutput_format[\u001b[38;5;241m1\u001b[39m:]\u001b[38;5;132;01m}\u001b[39;00m\u001b[38;5;124m. See log output above or\u001b[39m\u001b[38;5;124m\"\u001b[39m\n\u001b[0;32m    214\u001b[0m             \u001b[38;5;124mf\u001b[39m\u001b[38;5;124m\"\u001b[39m\u001b[38;5;124m the log file: \u001b[39m\u001b[38;5;132;01m{\u001b[39;00mlog_file\u001b[38;5;132;01m}\u001b[39;00m\u001b[38;5;124m\"\u001b[39m,\n\u001b[0;32m    215\u001b[0m         )\n\u001b[0;32m    216\u001b[0m \u001b[38;5;28;01mreturn\u001b[39;00m result\n",
      "File \u001b[1;32mc:\\Users\\a829727\\AppData\\Local\\anaconda3\\envs\\semester_5\\lib\\site-packages\\manim\\utils\\tex_file_writing.py:283\u001b[0m, in \u001b[0;36mprint_all_tex_errors\u001b[1;34m(log_file, tex_compiler, tex_file)\u001b[0m\n\u001b[0;32m    281\u001b[0m \u001b[38;5;28;01mdef\u001b[39;00m \u001b[38;5;21mprint_all_tex_errors\u001b[39m(log_file: Path, tex_compiler: \u001b[38;5;28mstr\u001b[39m, tex_file: Path) \u001b[38;5;241m-\u001b[39m\u001b[38;5;241m>\u001b[39m \u001b[38;5;28;01mNone\u001b[39;00m:\n\u001b[0;32m    282\u001b[0m     \u001b[38;5;28;01mif\u001b[39;00m \u001b[38;5;129;01mnot\u001b[39;00m log_file\u001b[38;5;241m.\u001b[39mexists():\n\u001b[1;32m--> 283\u001b[0m         \u001b[38;5;28;01mraise\u001b[39;00m \u001b[38;5;167;01mRuntimeError\u001b[39;00m(\n\u001b[0;32m    284\u001b[0m             \u001b[38;5;124mf\u001b[39m\u001b[38;5;124m\"\u001b[39m\u001b[38;5;132;01m{\u001b[39;00mtex_compiler\u001b[38;5;132;01m}\u001b[39;00m\u001b[38;5;124m failed but did not produce a log file. \u001b[39m\u001b[38;5;124m\"\u001b[39m\n\u001b[0;32m    285\u001b[0m             \u001b[38;5;124m\"\u001b[39m\u001b[38;5;124mCheck your LaTeX installation.\u001b[39m\u001b[38;5;124m\"\u001b[39m,\n\u001b[0;32m    286\u001b[0m         )\n\u001b[0;32m    287\u001b[0m     \u001b[38;5;28;01mwith\u001b[39;00m log_file\u001b[38;5;241m.\u001b[39mopen(encoding\u001b[38;5;241m=\u001b[39m\u001b[38;5;124m\"\u001b[39m\u001b[38;5;124mutf-8\u001b[39m\u001b[38;5;124m\"\u001b[39m) \u001b[38;5;28;01mas\u001b[39;00m f:\n\u001b[0;32m    288\u001b[0m         tex_compilation_log \u001b[38;5;241m=\u001b[39m f\u001b[38;5;241m.\u001b[39mreadlines()\n",
      "\u001b[1;31mRuntimeError\u001b[0m: latex failed but did not produce a log file. Check your LaTeX installation."
     ]
    }
   ],
   "source": [
    "%manim -pql Scene_4\n"
   ]
  },
  {
   "cell_type": "code",
   "execution_count": null,
   "metadata": {},
   "outputs": [],
   "source": []
  }
 ],
 "metadata": {
  "kernelspec": {
   "display_name": "visualization-manim",
   "language": "python",
   "name": "python3"
  },
  "language_info": {
   "codemirror_mode": {
    "name": "ipython",
    "version": 3
   },
   "file_extension": ".py",
   "mimetype": "text/x-python",
   "name": "python",
   "nbconvert_exporter": "python",
   "pygments_lexer": "ipython3",
   "version": "3.9.18"
  }
 },
 "nbformat": 4,
 "nbformat_minor": 2
}
